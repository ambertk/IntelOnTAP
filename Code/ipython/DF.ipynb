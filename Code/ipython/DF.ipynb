{
 "cells": [
  {
   "cell_type": "markdown",
   "metadata": {},
   "source": [
    "![TAP](https://avatars2.githubusercontent.com/u/13385739?v=3&s=200 \"TAP\")\n",
    "# Module 2: Working with Data Frames\n",
    "This module will give you an overview for how to work with and think about data frames."
   ]
  },
  {
   "cell_type": "code",
   "execution_count": null,
   "metadata": {
    "collapsed": false
   },
   "outputs": [],
   "source": [
    "import json\n",
    "import random\n",
    "import trustedanalytics as ia\n",
    "\n",
    "# Connect to the analytics server...\n",
    "ia.connect()\n",
    "\n",
    "# Set seed...\n",
    "random.seed = 01001000"
   ]
  },
  {
   "cell_type": "code",
   "execution_count": null,
   "metadata": {
    "collapsed": true
   },
   "outputs": [],
   "source": [
    "# List the frames available to us...\n",
    "ia.get_frame_names()"
   ]
  },
  {
   "cell_type": "code",
   "execution_count": null,
   "metadata": {
    "collapsed": false
   },
   "outputs": [],
   "source": [
    "# Load the inpatient data and revert it to the original state...\n",
    "tutorial_inpat = ia.get_frame(\"tutorial_inpat_frame\")\n",
    "tutorial_inpat.drop_columns([i for i in tutorial_inpat.column_names if i != 'data_lines'])"
   ]
  },
  {
   "cell_type": "code",
   "execution_count": null,
   "metadata": {
    "collapsed": false
   },
   "outputs": [],
   "source": [
    "# Let's see what methods are available to us...\n",
    "dir(tutorial_inpat)"
   ]
  },
  {
   "cell_type": "code",
   "execution_count": null,
   "metadata": {
    "collapsed": false
   },
   "outputs": [],
   "source": [
    "# List column names...\n",
    "tutorial_inpat.column_names"
   ]
  },
  {
   "cell_type": "code",
   "execution_count": null,
   "metadata": {
    "collapsed": false
   },
   "outputs": [],
   "source": [
    "# Let's add patient ages...\n",
    "def add_age(row):\n",
    "    \"\"\"Function to extract age information from inpatient json\"\"\"\n",
    "    my_json = json.loads(row[0])\n",
    "    AGE = my_json['AGE'] if 'AGE' in my_json else 0.0\n",
    "    return AGE\n",
    "\n",
    "def add_random_number(row):\n",
    "    return random.randint(a=0, b=1000)\n",
    "\n",
    "# Add ages using the add column function! \n",
    "# We'll discuss this function in detail in the next module...\n",
    "# tutorial_inpat.add_columns(add_age, (\"AGE\", ia.float64))\n",
    "tutorial_inpat.add_columns(add_random_number, (\"RANDOM_NUMBER\", int))"
   ]
  },
  {
   "cell_type": "code",
   "execution_count": null,
   "metadata": {
    "collapsed": false
   },
   "outputs": [],
   "source": [
    "# Let's look at our data!\n",
    "tutorial_inpat.inspect()"
   ]
  },
  {
   "cell_type": "code",
   "execution_count": null,
   "metadata": {
    "collapsed": false
   },
   "outputs": [],
   "source": [
    "# Yikes! Here's a trick I use...\n",
    "tutorial_inpat.inspect(columns=[i for i in tutorial_inpat.column_names if i != 'data_lines'])"
   ]
  },
  {
   "cell_type": "code",
   "execution_count": null,
   "metadata": {
    "collapsed": false
   },
   "outputs": [],
   "source": [
    "# We can check how many patient encounters were in our data...\n",
    "tutorial_inpat.row_count"
   ]
  },
  {
   "cell_type": "code",
   "execution_count": null,
   "metadata": {
    "collapsed": false
   },
   "outputs": [],
   "source": [
    "tutorial_inpat.column_summary_statistics('AGE')"
   ]
  },
  {
   "cell_type": "code",
   "execution_count": null,
   "metadata": {
    "collapsed": false
   },
   "outputs": [],
   "source": [
    "# Let's create a copy of our data frame...\n",
    "tmp = tutorial_inpat.copy()"
   ]
  },
  {
   "cell_type": "markdown",
   "metadata": {},
   "source": [
    "####Data Cleaning"
   ]
  },
  {
   "cell_type": "code",
   "execution_count": null,
   "metadata": {
    "collapsed": false
   },
   "outputs": [],
   "source": [
    "# Let's get rid of that data_lines column, since this is just a working copy...\n",
    "tmp.drop_columns(columns=['data_lines'])"
   ]
  },
  {
   "cell_type": "code",
   "execution_count": null,
   "metadata": {
    "collapsed": false
   },
   "outputs": [],
   "source": [
    "# We can filter our data. This function modifies the frame in place, so it's good that we made a copy!\n",
    "tmp.filter(predicate=lambda row: row.RANDOM_NUMBER % 2 == 0)"
   ]
  },
  {
   "cell_type": "code",
   "execution_count": null,
   "metadata": {
    "collapsed": false
   },
   "outputs": [],
   "source": [
    "# Check it.\n",
    "tmp.inspect()"
   ]
  },
  {
   "cell_type": "code",
   "execution_count": null,
   "metadata": {
    "collapsed": false
   },
   "outputs": [],
   "source": [
    "tmp.row_count"
   ]
  },
  {
   "cell_type": "code",
   "execution_count": null,
   "metadata": {
    "collapsed": false
   },
   "outputs": [],
   "source": [
    "tmp.drop_duplicates(unique_columns=['AGE'])"
   ]
  },
  {
   "cell_type": "code",
   "execution_count": null,
   "metadata": {
    "collapsed": false
   },
   "outputs": [],
   "source": [
    "tmp.row_count"
   ]
  },
  {
   "cell_type": "markdown",
   "metadata": {},
   "source": [
    "#### Other Operations of Note"
   ]
  },
  {
   "cell_type": "code",
   "execution_count": null,
   "metadata": {
    "collapsed": false
   },
   "outputs": [],
   "source": [
    "# Aggregate your data using group_by...\n",
    "inpat_age_count = tutorial_inpat.group_by('AGE', ia.agg.count)"
   ]
  },
  {
   "cell_type": "code",
   "execution_count": null,
   "metadata": {
    "collapsed": false
   },
   "outputs": [],
   "source": [
    "# Check it.\n",
    "inpat_age_count.inspect()"
   ]
  },
  {
   "cell_type": "code",
   "execution_count": null,
   "metadata": {
    "collapsed": false
   },
   "outputs": [],
   "source": [
    "# We can sort our data in place...\n",
    "inpat_age_count.sort(columns=['count', 'AGE'], ascending=False)"
   ]
  },
  {
   "cell_type": "code",
   "execution_count": null,
   "metadata": {
    "collapsed": false
   },
   "outputs": [],
   "source": [
    "inpat_age_count.inspect()"
   ]
  },
  {
   "cell_type": "code",
   "execution_count": null,
   "metadata": {
    "collapsed": false
   },
   "outputs": [],
   "source": [
    "# We can extract our data for non-ATK work...\n",
    "local_data = inpat_age_count.take(n=inpat_age_count.row_count, offset=0, columns=None)"
   ]
  },
  {
   "cell_type": "code",
   "execution_count": null,
   "metadata": {
    "collapsed": false
   },
   "outputs": [],
   "source": [
    "# Check it.\n",
    "len(local_data)"
   ]
  },
  {
   "cell_type": "code",
   "execution_count": null,
   "metadata": {
    "collapsed": false
   },
   "outputs": [],
   "source": [
    "type(local_data)"
   ]
  },
  {
   "cell_type": "code",
   "execution_count": null,
   "metadata": {
    "collapsed": false
   },
   "outputs": [],
   "source": [
    "type(inpat_age_count)"
   ]
  }
 ],
 "metadata": {
  "kernelspec": {
   "display_name": "Python 2",
   "language": "python",
   "name": "python2"
  },
  "language_info": {
   "codemirror_mode": {
    "name": "ipython",
    "version": 2
   },
   "file_extension": ".py",
   "mimetype": "text/x-python",
   "name": "python",
   "nbconvert_exporter": "python",
   "pygments_lexer": "ipython2",
   "version": "2.7.5"
  }
 },
 "nbformat": 4,
 "nbformat_minor": 0
}
