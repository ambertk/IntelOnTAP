{
 "cells": [
  {
   "cell_type": "code",
   "execution_count": 148,
   "metadata": {
    "collapsed": false
   },
   "outputs": [
    {
     "name": "stdout",
     "output_type": "stream",
     "text": [
      "Already connected.  This client instance connected to server http://localhost:9099/v1 (version=0.4.3-201511049238) as user test_api_key_1 at 2015-11-16 14:03:11.171843.\n"
     ]
    }
   ],
   "source": [
    "import re\n",
    "import random\n",
    "import os.path\n",
    "import trustedanalytics as ia\n",
    "import xml.etree.ElementTree as ET\n",
    "\n",
    "ia.connect()"
   ]
  },
  {
   "cell_type": "code",
   "execution_count": 133,
   "metadata": {
    "collapsed": true
   },
   "outputs": [],
   "source": [
    "# CONSTANTS...\n",
    "HDFS_DATADIR_PATH = \"data/TAPfest\"\n",
    "MEDLINEDIR = \"PubMed\"\n",
    "ARTICLE_SEPARATION_TAG = \"PubmedArticle\"\n",
    "DEFAULT_MONTH = 1\n",
    "DEFAULT_DAY = 1\n",
    "DEFAULT_MISSING_YEAR = 1"
   ]
  },
  {
   "cell_type": "code",
   "execution_count": null,
   "metadata": {
    "collapsed": true
   },
   "outputs": [],
   "source": [
    "def parse_xml_to_frame(path, tag, name):\n",
    "    \"\"\"\n",
    "    Helper function to convert an xml file on the hdfs into a data frame...\n",
    "    \"\"\"\n",
    "    xml = ia.XmlFile(path, tag)\n",
    "    \n",
    "    # Check that the frame doesn't already exist. Drop it, if it does...\n",
    "    if name in ia.get_frame_names():\n",
    "        sys.stderr.write(\"Dropping existing frame named {NAME}...\\n\".format(NAME=name))\n",
    "        ia.drop_frames(name)\t\n",
    "    frame = ia.Frame(xml, name=name)\n",
    "    return frame"
   ]
  },
  {
   "cell_type": "code",
   "execution_count": null,
   "metadata": {
    "collapsed": false
   },
   "outputs": [],
   "source": [
    "# Create Frame...\n",
    "ia.drop_frames(\"tutorial_pubmed_frame\")\n",
    "tutorial_pubmed_frame = parse_xml_to_frame(path=os.path.join(HDFS_DATADIR_PATH, MEDLINEDIR), tag=ARTICLE_SEPARATION_TAG, name=\"tutorial_pubmed_frame\")"
   ]
  },
  {
   "cell_type": "code",
   "execution_count": null,
   "metadata": {
    "collapsed": false
   },
   "outputs": [],
   "source": [
    "tutorial_pubmed_frame.column_names"
   ]
  },
  {
   "cell_type": "code",
   "execution_count": 170,
   "metadata": {
    "collapsed": false
   },
   "outputs": [
    {
     "name": "stdout",
     "output_type": "stream",
     "text": [
      "[=========================] 100.00% Tasks retries:0 Time 0:00:03\n",
      "[=========================] 100.00% Tasks retries:0 Time 0:00:05\n"
     ]
    }
   ],
   "source": [
    "# Let's extract some data!\n",
    "def get_pmid(row):\n",
    "    \"\"\"Function to extract the publication-unique identifier\"\"\"\n",
    "    xml = row[0]\n",
    "    try:\n",
    "        return re.findall(r'\\<PMID Version\\=\\\"1\\\"\\>(\\d+)\\</PMID\\>', xml)[0]\n",
    "    except:\n",
    "        return 0\n",
    "\n",
    "def get_mesh_terms(row):\n",
    "    \"\"\"Function to extract subject headings\"\"\"\n",
    "    xml = row[0]\n",
    "    try:\n",
    "        keywords = re.findall(r'\\<KeywordList Owner\\=\\\"NLM\\\"\\>(.*?)\\</KeywordList\\>', xml, re.DOTALL)[0]\n",
    "    except:\n",
    "        return ''\n",
    "    kws = re.findall(r'<Keyword MajorTopicYN\\=\\\"Y\\\">(.*?)\\</Keyword\\>', keywords)\n",
    "    if len(kws) > 1:\n",
    "        return \"|\".join(kws)\n",
    "    elif len(kws) == 1:\n",
    "        return kws[0]\n",
    "\n",
    "def get_article_title(row):\n",
    "    \"\"\"Function to extract article title\"\"\"\n",
    "    xml = row[0]\n",
    "    try:\n",
    "        article = re.findall(r'\\<Article PubModel\\=\\\"Print\\\"\\>(.*?)\\</Article\\>', xml, re.DOTALL)[0]\n",
    "    except:\n",
    "        return 'None'\n",
    "    try:\n",
    "        title = re.findall(r'\\<ArticleTitle\\>\\[?(.*?)\\]?\\</ArticleTitle\\>', xml)[0]\n",
    "        if title[-1] == \"]\":\n",
    "            title = title[0:-1]\n",
    "        elif title[len(title)-2:] == \"].\":\n",
    "            title = title[:len(title)-2]\n",
    "    except:\n",
    "        tirle = 'None'\n",
    "    return title\n",
    "\n",
    "def get_publication_year(row):\n",
    "    \"\"\"Function to extract publication year\"\"\"\n",
    "    xml = row[0]\n",
    "    try:\n",
    "        journal = re.findall(r'\\<Journal\\>(.*?)\\</Journal\\>', xml, re.DOTALL)[0]\n",
    "        year = re.findall(r'\\<Year\\>(.*?)\\</Year\\>', journal)[0]\n",
    "        return year\n",
    "    except:\n",
    "        return DEFAULT_MISSING_YEAR\n",
    "\n",
    "tutorial_pubmed_frame.add_columns(get_pmid, (\"PMID\", str))\n",
    "tutorial_pubmed_frame.add_columns(get_mesh_terms, (\"MeSH\", str))\n",
    "tutorial_pubmed_frame.add_columns(get_article_title, (\"TITLE\", str))\n",
    "tutorial_pubmed_frame.add_columns(get_publication_year, (\"PUBYEAR\", ia.int64))"
   ]
  },
  {
   "cell_type": "code",
   "execution_count": 146,
   "metadata": {
    "collapsed": false
   },
   "outputs": [
    {
     "data": {
      "text/plain": [
       "[u'data_lines', u'PMID', u'MeSH', u'TITLE', u'GS', u'PUBYEAR']"
      ]
     },
     "execution_count": 146,
     "metadata": {},
     "output_type": "execute_result"
    }
   ],
   "source": [
    "# Let's confirm that all columns were added...\n",
    "tutorial_pubmed_frame.column_names"
   ]
  },
  {
   "cell_type": "code",
   "execution_count": 172,
   "metadata": {
    "collapsed": false
   },
   "outputs": [
    {
     "name": "stdout",
     "output_type": "stream",
     "text": [
      "[=========================] 100.00% Tasks retries:0 Time 0:00:04\n",
      "[=========================] 100.00% Tasks retries:0 Time 0:00:03\n"
     ]
    },
    {
     "data": {
      "text/plain": [
       "[##]  PUBYEAR  count\n",
       "====================\n",
       "[0]      1948  57887\n",
       "[1]      1947  57159\n",
       "[2]      1949  54133\n",
       "[3]      1946  46673\n",
       "[4]         1  20857\n",
       "[5]      1945  14162\n",
       "[6]      1950  12103\n",
       "[7]      1944     13\n",
       "[8]      1942      7\n",
       "[9]      1940      3\n",
       "[10]     1930      1"
      ]
     },
     "execution_count": 172,
     "metadata": {},
     "output_type": "execute_result"
    }
   ],
   "source": [
    "# Let's generate a table describing the number of publications x year...\n",
    "tmp_count = tutorial_pubmed_frame.group_by('PUBYEAR', ia.agg.count)\n",
    "tmp_count.sort(columns=\"count\", ascending=False)\n",
    "tmp_count.inspect(n=tmp_count.row_count)"
   ]
  },
  {
   "cell_type": "code",
   "execution_count": 173,
   "metadata": {
    "collapsed": false
   },
   "outputs": [
    {
     "data": {
      "text/plain": [
       "262998"
      ]
     },
     "execution_count": 173,
     "metadata": {},
     "output_type": "execute_result"
    }
   ],
   "source": [
    "# Let's filter out nonsense data...\n",
    "tutorial_pubmed_frame.row_count"
   ]
  },
  {
   "cell_type": "code",
   "execution_count": 175,
   "metadata": {
    "collapsed": false
   },
   "outputs": [
    {
     "name": "stdout",
     "output_type": "stream",
     "text": [
      "[=========================] 100.00% Tasks retries:0 Time 0:00:06\n"
     ]
    }
   ],
   "source": [
    "def filter_mesh(row):\n",
    "\treturn row['MeSH'] != ''\n",
    "\n",
    "def filter_title(row):\n",
    "    return row['TITLE'] != 'None'\n",
    "\n",
    "def filter_pubyear(row):\n",
    "    return row['PUBYEAR'] != 1\n",
    "\n",
    "# Filter out any rows without patid, visid, or publication year...\n",
    "tutorial_pubmed_frame.filter(filter_mesh)\n",
    "tutorial_pubmed_frame.filter(filter_title)\n",
    "tutorial_pubmed_frame.filter(filter_pubyear)"
   ]
  },
  {
   "cell_type": "code",
   "execution_count": 176,
   "metadata": {
    "collapsed": false
   },
   "outputs": [
    {
     "data": {
      "text/plain": [
       "242141"
      ]
     },
     "execution_count": 176,
     "metadata": {},
     "output_type": "execute_result"
    }
   ],
   "source": [
    "# Confirm that rows were dropped...\n",
    "tutorial_pubmed_frame.row_count"
   ]
  },
  {
   "cell_type": "code",
   "execution_count": 177,
   "metadata": {
    "collapsed": false
   },
   "outputs": [
    {
     "data": {
      "text/plain": [
       "[(u'data_lines', unicode),\n",
       " (u'PMID', unicode),\n",
       " (u'MeSH', unicode),\n",
       " (u'TITLE', unicode),\n",
       " (u'GS', numpy.int32),\n",
       " (u'PUBYEAR', numpy.int64)]"
      ]
     },
     "execution_count": 177,
     "metadata": {},
     "output_type": "execute_result"
    }
   ],
   "source": [
    "# Let's inspect the frame schema...\n",
    "tutorial_pubmed_frame.schema"
   ]
  },
  {
   "cell_type": "code",
   "execution_count": 126,
   "metadata": {
    "collapsed": false
   },
   "outputs": [
    {
     "data": {
      "text/plain": [
       "[u'15425272',\n",
       " u'SKIN',\n",
       " u\"So-called Gougerot's trisymptomatic disease; a clinical case\",\n",
       " 1,\n",
       " u'0005-01-01T00:00:00.000-07:52:58']"
      ]
     },
     "execution_count": 126,
     "metadata": {},
     "output_type": "execute_result"
    }
   ],
   "source": [
    "# We can extract a single row...\n",
    "tmp = tutorial_pubmed_frame.take(1)\n",
    "tmp[0][1:]"
   ]
  },
  {
   "cell_type": "code",
   "execution_count": 178,
   "metadata": {
    "collapsed": false
   },
   "outputs": [
    {
     "data": {
      "text/plain": [
       "[##]  PMID      MeSH                                         \n",
       "=============================================================\n",
       "[0]   15425272  SKIN\n",
       "[1]   15425271  CURARE|GASTROINTESTINAL DISEASE|PHLEBITIS\n",
       "[2]   15425270  MENINGES\n",
       "[3]   15425269  DERMATITIS|STREPTOMYCIN\n",
       "[4]   15425268  LAURENCE-MOON-BIEDL SYNDROME\n",
       "[5]   15425267  ERYSIPELAS|HERPES\n",
       "[6]   15425266  CORNEA\n",
       "[7]   15425265  ROENTGEN RAYS|THORAX\n",
       "[8]   15425264  ARTERY|HEART\n",
       "[9]   15418895  TISSUE\n",
       "[10]  15418894  ARTERY|BLOOD VESSELS\n",
       "[11]  15418893  ABNORMALITIES AND DEFORMITIES|FETUS|MONSTERS\n",
       "[12]  15418892  EMBRYOLOGY\n",
       "[13]  15418891  CARTILAGE\n",
       "[14]  15418890  BRAIN|EMBRYOLOGY|FISH|NERVOUS SYSTEM, CENTRAL\n",
       "\n",
       "[##]  TITLE                                                                     \n",
       "================================================================================\n",
       "[0]   So-called Gougerot's trisymptomatic disease; a clinical case\n",
       "[1]   Curare in gastric disorders and in phlebitis\n",
       "[2]   Tuberculous meningitis clinically cured\n",
       "[3]   Dermatosis caused by streptomycin\n",
       "[4]   Laurence-Moon-Biedl syndrome\n",
       "[5]   Herpes zoster of the VIII beginning with erysipelas; Ramsay Hunt syndrome\n",
       "[6]   Corneal transplants\n",
       "[7]   Mass chest x-ray\n",
       "[8]   Case of tetralogy of Fallot managed by the Blalock method of anastomosis\n",
       "[9]   An improved technique for morphological studies of tissue cells in plasma media.\n",
       "[10]  Transverse arteries in the neck\n",
       "[11]  Abnormalities of the caudal trunk; a contribution to the problem of sirenoid deformity\n",
       "[12]  Histobiological study of the development of the envelopes of avian eggs\n",
       "[13]  Functional structure of elastic cartilage\n",
       "[14]  A contribution to the ontogenetic development of the nuclei in the forebrain in Lepisosteus.\n",
       "\n",
       "[##]  GS  PUBYEAR\n",
       "=================\n",
       "[0]    1     1950\n",
       "[1]    0     1950\n",
       "[2]    0     1950\n",
       "[3]    0     1950\n",
       "[4]    0     1950\n",
       "[5]    0     1950\n",
       "[6]    0     1950\n",
       "[7]    0     1950\n",
       "[8]    0     1950\n",
       "[9]    0     1950\n",
       "[10]   0     1950\n",
       "[11]   0     1950\n",
       "[12]   0     1950\n",
       "[13]   0     1950\n",
       "[14]   0     1950"
      ]
     },
     "execution_count": 178,
     "metadata": {},
     "output_type": "execute_result"
    }
   ],
   "source": [
    "# Let's inspect the frame...\n",
    "tutorial_pubmed_frame.inspect(n=15, columns=[i for i in tutorial_pubmed_frame.column_names if i != 'data_lines'])"
   ]
  },
  {
   "cell_type": "code",
   "execution_count": null,
   "metadata": {
    "collapsed": false
   },
   "outputs": [],
   "source": [
    "# Let's add some gold-standard labels...\n",
    "def add_gs(row):\n",
    "    \"\"\"Function to add gold-standard labels based on whether the term skin appears in subject headings\"\"\"\n",
    "    mesh = row['MeSH']\n",
    "    mesh = mesh.lower()\n",
    "    if 'skin' in mesh:\n",
    "        return 1\n",
    "    else:\n",
    "        return 0\n",
    "\n",
    "tutorial_pubmed_frame.drop_columns(\"GS\")    \n",
    "tutorial_pubmed_frame.add_columns(add_gs, (\"GS\", ia.int32))"
   ]
  },
  {
   "cell_type": "code",
   "execution_count": null,
   "metadata": {
    "collapsed": false
   },
   "outputs": [],
   "source": [
    "# Confirm that it worked...\n",
    "tutorial_pubmed_frame.column_names"
   ]
  },
  {
   "cell_type": "code",
   "execution_count": null,
   "metadata": {
    "collapsed": false
   },
   "outputs": [],
   "source": [
    "# Get a summary of the labels...\n",
    "tutorial_pubmed_frame.categorical_summary(\"GS\")"
   ]
  },
  {
   "cell_type": "code",
   "execution_count": null,
   "metadata": {
    "collapsed": false
   },
   "outputs": [],
   "source": [
    "# Generate the frame needed to perform topic modeling...\n",
    "# Create a working copy...\n",
    "lts = tutorial_pubmed_frame.copy()\n",
    "\n",
    "# Flatten on the separating character...\n",
    "lts.flatten_column(\"MeSH\", \"|\")\n",
    "\n",
    "# We need to create a table ox ID x MED x Count...\n",
    "lts_lda_input = lts.group_by([\"PMID\", \"MeSH\"], ia.agg.count)\n",
    "if \"lts_lda_input_renamed\" in ia.get_frame_names():\n",
    "    ia.drop_frames(\"lts_lda_input_renamed\")\n",
    "lts_lda_input_renamed = lts_lda_input.copy(name = \"lts_lda_input_renamed\")"
   ]
  },
  {
   "cell_type": "code",
   "execution_count": null,
   "metadata": {
    "collapsed": false
   },
   "outputs": [],
   "source": [
    "# Set up LDA model...\n",
    "# Set the parameters for the LDA model...\n",
    "nTopics = 20\n",
    "max_iterations = 2\n",
    "\n",
    "# Clean up any old attempts...\n",
    "ia.drop_models(['lts_lda_model'])\n",
    "\n",
    "# Create LDA model..\n",
    "lda_model =  ia.LdaModel(name='lts_lda_model')\n",
    "lts_lda_model = lda_model.train(lts_lda_input_renamed, \"PMID\", \"MeSH\", 'count', num_topics=nTopics, max_iterations=max_iterations)\n",
    "\n",
    "# We can extract the per-id topic distributions...\n",
    "doc_mixes = lts_lda_model['topics_given_doc']"
   ]
  },
  {
   "cell_type": "code",
   "execution_count": null,
   "metadata": {
    "collapsed": false
   },
   "outputs": [],
   "source": [
    "# Clean up old approaches...\n",
    "ia.drop_frames(['lts_lda_feature_frame'])\n",
    "\n",
    "# Copy the document x topic frame...\n",
    "lts_lda_feature_frame = doc_mixes.copy(name='lts_lda_feature_frame')\n",
    "\n",
    "# Create schema...\n",
    "schema = map(lambda i: ('topic' + \"_\" + str(i), ia.float64), range(1, nTopics + 1))\n",
    "\n",
    "# Create features frame...\n",
    "lts_lda_feature_frame.add_columns(lambda row: (row['topic_probabilities']), schema)\n",
    "lts_lda_feature_frame.drop_columns(['topic_probabilities'])"
   ]
  },
  {
   "cell_type": "code",
   "execution_count": null,
   "metadata": {
    "collapsed": true
   },
   "outputs": [],
   "source": [
    "lts_lda_feature_frame.inspect()"
   ]
  },
  {
   "cell_type": "code",
   "execution_count": null,
   "metadata": {
    "collapsed": false
   },
   "outputs": [],
   "source": [
    "tutorial_pubmed_lda = tutorial_pubmed_frame.join(lts_lda_feature_frame, 'PMID')"
   ]
  },
  {
   "cell_type": "code",
   "execution_count": null,
   "metadata": {
    "collapsed": false
   },
   "outputs": [],
   "source": [
    "tutorial_pubmed_lda.inspect(columns=[i for i in tutorial_pubmed_lda.column_names if i != 'data_lines'])"
   ]
  },
  {
   "cell_type": "code",
   "execution_count": null,
   "metadata": {
    "collapsed": false
   },
   "outputs": [],
   "source": [
    "# Partition data set into train and test collections...\n",
    "pmids = tutorial_pubmed_lda.download(n=tutorial_pubmed_lda.row_count, columns='PMID')\n",
    "unique_pmids = list(set(list(pmids['PMID'])))\n",
    "random.shuffle(unique_pmids)\n",
    "test_pmids = unique_pmids[0:int(len(unique_pmids) * 0.10)]\n",
    "\n",
    "\n",
    "def label_train_test(row, test_list=test_pmids, train_list=train_pmids):\n",
    "    \"\"\"Simple function to partition into train/test collections based on look-up\"\"\"\n",
    "    if row['PMID'] in test_pmids:\n",
    "        return \"TEST\"\n",
    "    else:\n",
    "        return \"TRAIN\"\n",
    "\n",
    "tutorial_pubmed_lda.add_columns(label_train_test, (\"DATASET\", str))"
   ]
  },
  {
   "cell_type": "code",
   "execution_count": null,
   "metadata": {
    "collapsed": false
   },
   "outputs": [],
   "source": [
    "trainframe = tutorial_pubmed_lda.copy()\n",
    "trainframe.filter(lambda row: row['DATASET'] == \"TRAIN\")\n",
    "testframe = tutorial_pubmed_lda.copy()\n",
    "testframe.filter(lambda row: row['DATASET'] == \"TEST\")"
   ]
  },
  {
   "cell_type": "code",
   "execution_count": null,
   "metadata": {
    "collapsed": false
   },
   "outputs": [],
   "source": [
    "rf_model_tutorial = ia.RandomForestClassifierModel('rf_model_intel_tutorial1')"
   ]
  },
  {
   "cell_type": "code",
   "execution_count": null,
   "metadata": {
    "collapsed": false
   },
   "outputs": [],
   "source": [
    "rf_model_tutorial_results = rf_model_tutorial.train(frame=trainframe, \n",
    "                                                    label_column=\"GS\", \n",
    "                                                    observation_columns=[\"topic_1\", \"topic_2\"], \n",
    "                                                    num_classes=2, \n",
    "                                                    impurity='gini', \n",
    "                                                    max_depth=4, \n",
    "                                                    seed=01001000\n",
    "                                                   )"
   ]
  },
  {
   "cell_type": "code",
   "execution_count": null,
   "metadata": {
    "collapsed": false
   },
   "outputs": [],
   "source": [
    "# test the model\n",
    "x = rf_model_tutorial.test(testframe, \"GS\")"
   ]
  },
  {
   "cell_type": "code",
   "execution_count": 179,
   "metadata": {
    "collapsed": false
   },
   "outputs": [
    {
     "data": {
      "text/plain": [
       "Precision: 0.0\n",
       "Recall: 0.0\n",
       "Accuracy: 0.990798129206\n",
       "FMeasure: 0.0\n",
       "Confusion Matrix: \n",
       "            Predicted_Pos  Predicted_Neg\n",
       "Actual_Pos              0            242\n",
       "Actual_Neg              0          26057"
      ]
     },
     "execution_count": 179,
     "metadata": {},
     "output_type": "execute_result"
    }
   ],
   "source": [
    "x"
   ]
  },
  {
   "cell_type": "code",
   "execution_count": 182,
   "metadata": {
    "collapsed": false
   },
   "outputs": [
    {
     "name": "stdout",
     "output_type": "stream",
     "text": [
      "[=========================] 100.00%  Time 0:00:00\n"
     ]
    },
    {
     "data": {
      "text/plain": [
       "u'hdfs://master.poc-mtsinai.gao.cluster:8020/user/iauser/models_7e6588c9ba6d490bba5811484a76861a.tar'"
      ]
     },
     "execution_count": 182,
     "metadata": {},
     "output_type": "execute_result"
    }
   ],
   "source": [
    "rf_model_tutorial.publish()"
   ]
  },
  {
   "cell_type": "code",
   "execution_count": null,
   "metadata": {
    "collapsed": true
   },
   "outputs": [],
   "source": []
  }
 ],
 "metadata": {
  "kernelspec": {
   "display_name": "Python 2",
   "language": "python",
   "name": "python2"
  },
  "language_info": {
   "codemirror_mode": {
    "name": "ipython",
    "version": 2
   },
   "file_extension": ".py",
   "mimetype": "text/x-python",
   "name": "python",
   "nbconvert_exporter": "python",
   "pygments_lexer": "ipython2",
   "version": "2.7.5"
  }
 },
 "nbformat": 4,
 "nbformat_minor": 0
}
