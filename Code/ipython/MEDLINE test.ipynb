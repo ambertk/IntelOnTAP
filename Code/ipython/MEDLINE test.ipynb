{
 "cells": [
  {
   "cell_type": "code",
   "execution_count": 60,
   "metadata": {
    "collapsed": false
   },
   "outputs": [
    {
     "name": "stdout",
     "output_type": "stream",
     "text": [
      "Already connected.  This client instance connected to server http://localhost:9099/v1 (version=0.4.3-201511049238) as user test_api_key_1 at 2015-11-16 14:03:11.171843.\n"
     ]
    }
   ],
   "source": [
    "import re\n",
    "import random\n",
    "import os.path\n",
    "import trustedanalytics as ia\n",
    "\n",
    "ia.connect()"
   ]
  },
  {
   "cell_type": "code",
   "execution_count": 61,
   "metadata": {
    "collapsed": true
   },
   "outputs": [],
   "source": [
    "# CONSTANTS...\n",
    "HDFS_DATADIR_PATH = \"data/TAPfest\"\n",
    "MEDLINEDIR = \"PubMed\"\n",
    "# /PubmedArticle"
   ]
  },
  {
   "cell_type": "code",
   "execution_count": 62,
   "metadata": {
    "collapsed": true
   },
   "outputs": [],
   "source": [
    "def parse_xml_to_frame(path, tag, name):\n",
    "    \"\"\"\n",
    "    Helper function to convert an xml file on the hdfs into a data frame...\n",
    "    \"\"\"\n",
    "    xml = ia.XmlFile(path, tag)\n",
    "    \n",
    "    # Check that the frame doesn't already exist. Drop it, if it does...\n",
    "    if name in ia.get_frame_names():\n",
    "        sys.stderr.write(\"Dropping existing frame named {NAME}...\\n\".format(NAME=name))\n",
    "        ia.drop_frames(name)\t\n",
    "    frame = ia.Frame(xml, name=name)\n",
    "    return frame"
   ]
  },
  {
   "cell_type": "code",
   "execution_count": 63,
   "metadata": {
    "collapsed": false
   },
   "outputs": [
    {
     "name": "stdout",
     "output_type": "stream",
     "text": [
      "[=========================] 100.00% Tasks retries:0 Time 0:02:36\n"
     ]
    }
   ],
   "source": [
    "ia.drop_frames(\"tutorial_pubmed_frame\")\n",
    "tutorial_pubmed_frame = parse_xml_to_frame(path=os.path.join(HDFS_DATADIR_PATH, MEDLINEDIR), tag=\"PubmedArticle\", name=\"tutorial_pubmed_frame\")"
   ]
  },
  {
   "cell_type": "code",
   "execution_count": 64,
   "metadata": {
    "collapsed": false
   },
   "outputs": [
    {
     "data": {
      "text/plain": [
       "[u'data_lines']"
      ]
     },
     "execution_count": 64,
     "metadata": {},
     "output_type": "execute_result"
    }
   ],
   "source": [
    "tutorial_pubmed_frame.column_names"
   ]
  },
  {
   "cell_type": "code",
   "execution_count": null,
   "metadata": {
    "collapsed": true
   },
   "outputs": [],
   "source": [
    "tmp = tutorial_pubmed_frame.take(1)"
   ]
  },
  {
   "cell_type": "code",
   "execution_count": null,
   "metadata": {
    "collapsed": false
   },
   "outputs": [],
   "source": [
    "tmp[0][0]"
   ]
  },
  {
   "cell_type": "code",
   "execution_count": 66,
   "metadata": {
    "collapsed": false
   },
   "outputs": [
    {
     "name": "stdout",
     "output_type": "stream",
     "text": [
      "[=========================] 100.00% Tasks retries:0 Time 0:00:02\n",
      "[=========================] 100.00% Tasks retries:0 Time 0:00:01\n",
      "[=========================] 100.00% Tasks retries:0 Time 0:00:03\n"
     ]
    }
   ],
   "source": [
    "def get_pmid(row):\n",
    "    xml = row[0]\n",
    "    try:\n",
    "        return re.findall(r'\\<PMID Version\\=\\\"1\\\"\\>(\\d+)\\</PMID\\>', xml)[0]\n",
    "    except:\n",
    "        return 0\n",
    "\n",
    "def get_mesh_terms(row):\n",
    "    xml = row[0]\n",
    "    try:\n",
    "        keywords = re.findall(r'\\<KeywordList Owner\\=\\\"NLM\\\"\\>(.*?)\\</KeywordList\\>', xml, re.DOTALL)[0]\n",
    "    except:\n",
    "        return ''\n",
    "    kws = re.findall(r'<Keyword MajorTopicYN\\=\\\"Y\\\">(.*?)\\</Keyword\\>', keywords)\n",
    "    if len(kws) > 1:\n",
    "        return \"|\".join(kws)\n",
    "    elif len(kws) == 1:\n",
    "        return kws[0]\n",
    "\n",
    "def get_article_title(row):\n",
    "    xml = row[0]\n",
    "    try:\n",
    "        article = re.findall(r'\\<Article PubModel\\=\\\"Print\\\"\\>(.*?)\\</Article\\>', xml, re.DOTALL)[0]\n",
    "    except:\n",
    "        return 'None'\n",
    "    try:\n",
    "        title = re.findall(r'\\<ArticleTitle\\>\\[?(.*?)\\]?\\</ArticleTitle\\>', xml)[0]\n",
    "        if title[-1] == \"]\":\n",
    "            title = title[0:-1]\n",
    "        elif title[len(title)-2:] == \"].\":\n",
    "            title = title[:len(title)-2]\n",
    "    except:\n",
    "        tirle = 'None'\n",
    "    return title\n",
    "    \n",
    "# tutorial_pubmed_frame.drop_columns([\"PMID\", \"MeSH\", \"TITLE\"])\n",
    "tutorial_pubmed_frame.add_columns(get_pmid, (\"PMID\", str))\n",
    "tutorial_pubmed_frame.add_columns(get_mesh_terms, (\"MeSH\", str))\n",
    "tutorial_pubmed_frame.add_columns(get_article_title, (\"TITLE\", str))"
   ]
  },
  {
   "cell_type": "code",
   "execution_count": 67,
   "metadata": {
    "collapsed": false
   },
   "outputs": [
    {
     "data": {
      "text/plain": [
       "[u'data_lines', u'PMID', u'MeSH', u'TITLE']"
      ]
     },
     "execution_count": 67,
     "metadata": {},
     "output_type": "execute_result"
    }
   ],
   "source": [
    "tutorial_pubmed_frame.column_names"
   ]
  },
  {
   "cell_type": "code",
   "execution_count": 68,
   "metadata": {
    "collapsed": false
   },
   "outputs": [
    {
     "data": {
      "text/plain": [
       "493191"
      ]
     },
     "execution_count": 68,
     "metadata": {},
     "output_type": "execute_result"
    }
   ],
   "source": [
    "# tutorial_pubmed_frame.inspect(n=100, columns=[i for i in tutorial_pubmed_frame.column_names if i != 'data_lines'])\n",
    "tutorial_pubmed_frame.row_count"
   ]
  },
  {
   "cell_type": "code",
   "execution_count": 69,
   "metadata": {
    "collapsed": false
   },
   "outputs": [
    {
     "name": "stdout",
     "output_type": "stream",
     "text": [
      "[=========================] 100.00% Tasks retries:0 Time 0:00:04\n",
      "[=========================] 100.00% Tasks retries:0 Time 0:00:05\n"
     ]
    }
   ],
   "source": [
    "def filter_mesh(row):\n",
    "\treturn row['MeSH'] != ''\n",
    "\n",
    "def filter_title(row):\n",
    "    return row['TITLE'] != 'None'\n",
    "\n",
    "# Filter out any rows without patid or visid...\n",
    "tutorial_pubmed_frame.filter(filter_mesh)\n",
    "tutorial_pubmed_frame.filter(filter_title)"
   ]
  },
  {
   "cell_type": "code",
   "execution_count": 70,
   "metadata": {
    "collapsed": false
   },
   "outputs": [
    {
     "data": {
      "text/plain": [
       "262998"
      ]
     },
     "execution_count": 70,
     "metadata": {},
     "output_type": "execute_result"
    }
   ],
   "source": [
    "tutorial_pubmed_frame.row_count"
   ]
  },
  {
   "cell_type": "code",
   "execution_count": 86,
   "metadata": {
    "collapsed": false
   },
   "outputs": [
    {
     "data": {
      "text/plain": [
       "[##]  PMID      MeSH                                         \n",
       "=============================================================\n",
       "[0]   15425272  SKIN\n",
       "[1]   15425271  CURARE|GASTROINTESTINAL DISEASE|PHLEBITIS\n",
       "[2]   15425270  MENINGES\n",
       "[3]   15425269  DERMATITIS|STREPTOMYCIN\n",
       "[4]   15425268  LAURENCE-MOON-BIEDL SYNDROME\n",
       "[5]   15425267  ERYSIPELAS|HERPES\n",
       "[6]   15425266  CORNEA\n",
       "[7]   15425265  ROENTGEN RAYS|THORAX\n",
       "[8]   15425264  ARTERY|HEART\n",
       "[9]   15418895  TISSUE\n",
       "[10]  15418894  ARTERY|BLOOD VESSELS\n",
       "[11]  15418893  ABNORMALITIES AND DEFORMITIES|FETUS|MONSTERS\n",
       "[12]  15418892  EMBRYOLOGY\n",
       "[13]  15418891  CARTILAGE\n",
       "[14]  15418890  BRAIN|EMBRYOLOGY|FISH|NERVOUS SYSTEM, CENTRAL\n",
       "\n",
       "[##]  TITLE                                                                     \n",
       "================================================================================\n",
       "[0]   So-called Gougerot's trisymptomatic disease; a clinical case\n",
       "[1]   Curare in gastric disorders and in phlebitis\n",
       "[2]   Tuberculous meningitis clinically cured\n",
       "[3]   Dermatosis caused by streptomycin\n",
       "[4]   Laurence-Moon-Biedl syndrome\n",
       "[5]   Herpes zoster of the VIII beginning with erysipelas; Ramsay Hunt syndrome\n",
       "[6]   Corneal transplants\n",
       "[7]   Mass chest x-ray\n",
       "[8]   Case of tetralogy of Fallot managed by the Blalock method of anastomosis\n",
       "[9]   An improved technique for morphological studies of tissue cells in plasma media.\n",
       "[10]  Transverse arteries in the neck\n",
       "[11]  Abnormalities of the caudal trunk; a contribution to the problem of sirenoid deformity\n",
       "[12]  Histobiological study of the development of the envelopes of avian eggs\n",
       "[13]  Functional structure of elastic cartilage\n",
       "[14]  A contribution to the ontogenetic development of the nuclei in the forebrain in Lepisosteus.\n",
       "\n",
       "[##]  GS\n",
       "========\n",
       "[0]    1\n",
       "[1]    0\n",
       "[2]    0\n",
       "[3]    0\n",
       "[4]    0\n",
       "[5]    0\n",
       "[6]    0\n",
       "[7]    0\n",
       "[8]    0\n",
       "[9]    0\n",
       "[10]   0\n",
       "[11]   0\n",
       "[12]   0\n",
       "[13]   0\n",
       "[14]   0"
      ]
     },
     "execution_count": 86,
     "metadata": {},
     "output_type": "execute_result"
    }
   ],
   "source": [
    "tutorial_pubmed_frame.inspect(n=15, columns=[i for i in tutorial_pubmed_frame.column_names if i != 'data_lines'])"
   ]
  },
  {
   "cell_type": "code",
   "execution_count": 78,
   "metadata": {
    "collapsed": false
   },
   "outputs": [
    {
     "data": {
      "text/plain": [
       "[u'data_lines', u'PMID', u'MeSH', u'TITLE']"
      ]
     },
     "execution_count": 78,
     "metadata": {},
     "output_type": "execute_result"
    }
   ],
   "source": [
    "tutorial_pubmed_frame.column_names"
   ]
  },
  {
   "cell_type": "code",
   "execution_count": 84,
   "metadata": {
    "collapsed": false
   },
   "outputs": [
    {
     "name": "stdout",
     "output_type": "stream",
     "text": [
      "[=========================] 100.00% Tasks retries:0 Time 0:00:04\n",
      "[=========================] 100.00% Tasks retries:0 Time 0:00:03\n"
     ]
    }
   ],
   "source": [
    "def add_gs(row):\n",
    "    mesh = row['MeSH']\n",
    "    mesh = mesh.lower()\n",
    "    if 'skin' in mesh:\n",
    "        return 1\n",
    "    else:\n",
    "        return 0\n",
    "\n",
    "tutorial_pubmed_frame.drop_columns(\"GS\")    \n",
    "tutorial_pubmed_frame.add_columns(add_gs, (\"GS\", ia.int32))"
   ]
  },
  {
   "cell_type": "code",
   "execution_count": 80,
   "metadata": {
    "collapsed": false
   },
   "outputs": [
    {
     "data": {
      "text/plain": [
       "[u'data_lines', u'PMID', u'MeSH', u'TITLE', u'GS']"
      ]
     },
     "execution_count": 80,
     "metadata": {},
     "output_type": "execute_result"
    }
   ],
   "source": [
    "tutorial_pubmed_frame.column_names"
   ]
  },
  {
   "cell_type": "code",
   "execution_count": 85,
   "metadata": {
    "collapsed": false
   },
   "outputs": [
    {
     "name": "stdout",
     "output_type": "stream",
     "text": [
      "[=========================] 100.00% Tasks retries:0 Time 0:00:01\n",
      "[=========================] 100.00% Tasks retries:0 Time 0:00:01\n"
     ]
    },
    {
     "data": {
      "text/plain": [
       "{u'categorical_summary': [{u'column': u'GS',\n",
       "   u'levels': [{u'frequency': 260474,\n",
       "     u'level': u'0',\n",
       "     u'percentage': 0.9904029688438696},\n",
       "    {u'frequency': 2524, u'level': u'1', u'percentage': 0.009597031156130465},\n",
       "    {u'frequency': 0, u'level': u'Missing', u'percentage': 0.0},\n",
       "    {u'frequency': 0, u'level': u'Other', u'percentage': 0.0}]}]}"
      ]
     },
     "execution_count": 85,
     "metadata": {},
     "output_type": "execute_result"
    }
   ],
   "source": [
    "tutorial_pubmed_frame.categorical_summary(\"GS\")"
   ]
  },
  {
   "cell_type": "code",
   "execution_count": 87,
   "metadata": {
    "collapsed": false
   },
   "outputs": [
    {
     "name": "stdout",
     "output_type": "stream",
     "text": [
      "[=========================] 100.00% Tasks retries:0 Time 0:00:05\n",
      "[=========================] 100.00% Tasks retries:0 Time 0:00:04\n",
      "[=========================] 100.00% Tasks retries:0 Time 0:00:06\n",
      "[=========================] 100.00% Tasks retries:0 Time 0:00:01\n"
     ]
    }
   ],
   "source": [
    "# Create a working copy...\n",
    "lts = tutorial_pubmed_frame.copy()\n",
    "\n",
    "# Flatten on the separating character...\n",
    "lts.flatten_column(\"MeSH\", \"|\")\n",
    "\n",
    "# We need to create a table ox ID x MED x Count...\n",
    "lts_lda_input = lts.group_by([\"PMID\", \"MeSH\"], ia.agg.count)\n",
    "if \"lts_lda_input_renamed\" in ia.get_frame_names():\n",
    "    ia.drop_frames(\"lts_lda_input_renamed\")\n",
    "lts_lda_input_renamed = lts_lda_input.copy(name = \"lts_lda_input_renamed\")"
   ]
  },
  {
   "cell_type": "code",
   "execution_count": 88,
   "metadata": {
    "collapsed": false
   },
   "outputs": [
    {
     "name": "stdout",
     "output_type": "stream",
     "text": [
      "[=========================] 100.00%  Time 0:00:00\n",
      "[=========================] 100.00% Tasks retries:0 Time 0:01:15\n",
      "[=========================] 100.00% Tasks retries:0 Time 0:00:02\n"
     ]
    }
   ],
   "source": [
    "# Set the parameters for the LDA model...\n",
    "nTopics = 20\n",
    "max_iterations = 2\n",
    "\n",
    "# Clean up any old attempts...\n",
    "ia.drop_models(['lts_lda_model'])\n",
    "\n",
    "# Create LDA model..\n",
    "lda_model =  ia.LdaModel(name='lts_lda_model')\n",
    "lts_lda_model = lda_model.train(lts_lda_input_renamed, \"PMID\", \"MeSH\", 'count', num_topics=nTopics, max_iterations=max_iterations)\n",
    "\n",
    "# We can extract the per-id topic distributions...\n",
    "doc_mixes = lts_lda_model['topics_given_doc']"
   ]
  },
  {
   "cell_type": "code",
   "execution_count": 89,
   "metadata": {
    "collapsed": false
   },
   "outputs": [
    {
     "name": "stdout",
     "output_type": "stream",
     "text": [
      "[=========================] 100.00% Tasks retries:0 Time 0:00:07\n",
      "[=========================] 100.00% Tasks retries:0 Time 0:00:12\n",
      "[=========================] 100.00% Tasks retries:0 Time 0:00:07\n"
     ]
    }
   ],
   "source": [
    "# Clean up old approaches...\n",
    "ia.drop_frames(['lts_lda_feature_frame'])\n",
    "\n",
    "# Copy the document x topic frame...\n",
    "lts_lda_feature_frame = doc_mixes.copy(name='lts_lda_feature_frame')\n",
    "\n",
    "# Create schema...\n",
    "schema = map(lambda i: ('topic' + \"_\" + str(i), ia.float64), range(1, nTopics + 1))\n",
    "\n",
    "# Create features frame...\n",
    "lts_lda_feature_frame.add_columns(lambda row: (row['topic_probabilities']), schema)\n",
    "lts_lda_feature_frame.drop_columns(['topic_probabilities'])"
   ]
  },
  {
   "cell_type": "code",
   "execution_count": null,
   "metadata": {
    "collapsed": true
   },
   "outputs": [],
   "source": [
    "lts_lda_feature_frame.inspect()"
   ]
  },
  {
   "cell_type": "code",
   "execution_count": 90,
   "metadata": {
    "collapsed": false
   },
   "outputs": [
    {
     "name": "stdout",
     "output_type": "stream",
     "text": [
      "[=========================] 100.00% Tasks retries:0 Time 0:00:15\n"
     ]
    }
   ],
   "source": [
    "tutorial_pubmed_lda = tutorial_pubmed_frame.join(lts_lda_feature_frame, 'PMID')"
   ]
  },
  {
   "cell_type": "code",
   "execution_count": 91,
   "metadata": {
    "collapsed": false
   },
   "outputs": [
    {
     "data": {
      "text/plain": [
       "[#]  PMID      MeSH                                     \n",
       "========================================================\n",
       "[0]  18101813  AORTA/stricture|DUCTUS ARTERIOSUS\n",
       "[1]  18208013  STREPTOMYCIN/therapy|TUBERCULOSIS/therapy\n",
       "[2]  18122306  AGAR|BACTERIA/culture mediums--apparatus\n",
       "[3]  18112343  MILK\n",
       "[4]  18122757  KIDNEYS/infarction\n",
       "[5]  18118635  MEDICINE/history\n",
       "[6]  18110679  GYNECOLOGY\n",
       "[7]  18891943  BLOOD/dyscrasia|DENTISTRY/blood in\n",
       "[8]  18109112  ACROMEGALY|GIGANTISM|GROWTH\n",
       "[9]  18122801  LEAD/determination\n",
       "\n",
       "[#]  TITLE                                                                      \n",
       "================================================================================\n",
       "[0]  Aortic coarctation with patent ductus arteriosus.\n",
       "[1]  Not Available\n",
       "[2]  An automatic agar dispenser.\n",
       "[3]  Not Available\n",
       "[4]  Traumatic ischemic infarction of the kidney.\n",
       "[5]  Not Available\n",
       "[6]  Not Available\n",
       "[7]  The blood dyscrasias and their effect on the practice of dentistry.\n",
       "[8]  Interrelationship between pituitary growth factor and growth-promoting androgens in acromegaly and gigantism; quantitative evaluation of bone and soft tissue growth in acromegaly and gigantism.\n",
       "[9]  Review of methods for determination of lead in drinking water.\n",
       "\n",
       "[#]  GS  PMID_R    topic_1          topic_2          topic_3        \n",
       "====================================================================\n",
       "[0]   0  18101813  0.0539335684595  0.0575968385859  0.0612173499703\n",
       "[1]   0  18208013  0.0497636902267  0.0516484564508  0.0426863716036\n",
       "[2]   0  18122306  0.0537109101891   0.062574065645  0.0365499417627\n",
       "[3]   0  18112343  0.0498196075383  0.0471226637962  0.0567286853888\n",
       "[4]   0  18122757  0.0479510036754  0.0377383901467  0.0439982900649\n",
       "[5]   0  18118635  0.0517972333073  0.0517758505925  0.0578480334558\n",
       "[6]   0  18110679  0.0493807401789   0.057962601289  0.0458092380479\n",
       "[7]   0  18891943  0.0405437090605  0.0548668632346  0.0394025050672\n",
       "[8]   0  18109112  0.0420904227413  0.0524116619571  0.0378697796691\n",
       "[9]   0  18122801  0.0602595480487  0.0294358065882  0.0625150837516\n",
       "\n",
       "[#]  topic_4          topic_5          topic_6          topic_7        \n",
       "=======================================================================\n",
       "[0]  0.0500826008557   0.046820688013  0.0489627094915  0.0544989889078\n",
       "[1]  0.0501881820118  0.0572773496677  0.0544902721068  0.0566929752487\n",
       "[2]  0.0605668028547  0.0452546540634  0.0482543718226  0.0492285958367\n",
       "[3]  0.0503745599337   0.045401440873  0.0371937469907  0.0532421384704\n",
       "[4]   0.089065676364   0.044272704006  0.0393093231668  0.0515242073608\n",
       "[5]  0.0452669875513  0.0497143532417  0.0533395330216   0.049751003805\n",
       "[6]  0.0464103568109  0.0524507395405  0.0601946763547   0.043613456841\n",
       "[7]  0.0644275705436  0.0379607716548   0.068564034508  0.0554152321149\n",
       "[8]  0.0529357277367  0.0483255344892   0.066019523506  0.0575587834913\n",
       "[9]  0.0504261282614  0.0487356352778  0.0430737447146  0.0694233287191\n",
       "\n",
       "[#]  topic_8          topic_9          topic_10         topic_11       \n",
       "=======================================================================\n",
       "[0]  0.0438558875972  0.0474063106471  0.0436893808258  0.0482336791072\n",
       "[1]  0.0419937518708  0.0519910889837  0.0527861478719  0.0547283879676\n",
       "[2]  0.0414999397379  0.0527896858345  0.0372035893788  0.0508747775409\n",
       "[3]  0.0543934581629  0.0528023957867  0.0405647753602  0.0591480696793\n",
       "[4]  0.0730054249658  0.0655539971942   0.043733275164  0.0325408138151\n",
       "[5]  0.0581135217981  0.0527607513091  0.0435728642088  0.0491430561285\n",
       "[6]  0.0539999288753  0.0420292378983  0.0551394818875  0.0458316047536\n",
       "[7]  0.0490708344706  0.0506805935447   0.042753567829  0.0554248376349\n",
       "[8]  0.0630465569197  0.0588325594167  0.0456483272495    0.05065600373\n",
       "[9]  0.0349708477302  0.0379409852951  0.0475358909554  0.0454015875502\n",
       "\n",
       "[#]  topic_12         topic_13         topic_14         topic_15       \n",
       "=======================================================================\n",
       "[0]   0.039837483397  0.0525666063582  0.0505936493085  0.0564034262582\n",
       "[1]  0.0497430983718  0.0569289292428  0.0457268704469  0.0476558965992\n",
       "[2]   0.052733932627  0.0263909064531  0.0439802998317  0.0727114175615\n",
       "[3]  0.0506176346437  0.0459191511689  0.0475719785337  0.0543236909523\n",
       "[4]  0.0386460024653  0.0543723134807  0.0446098175546   0.059871336726\n",
       "[5]  0.0489599724195  0.0468162116803  0.0502908211675   0.043684138378\n",
       "[6]  0.0495295941664  0.0496134223031  0.0479139497667  0.0576715504977\n",
       "[7]  0.0566084921132  0.0557306161024  0.0588891970583  0.0688562995902\n",
       "[8]  0.0544013450057  0.0483105655888  0.0455576017726  0.0436820055094\n",
       "[9]  0.0613392886784  0.0242237907084  0.0675125567255  0.0621649319212\n",
       "\n",
       "[#]  topic_16         topic_17         topic_18         topic_19       \n",
       "=======================================================================\n",
       "[0]  0.0423925809689  0.0526597332938  0.0539227262445  0.0486387005933\n",
       "[1]  0.0531198038256  0.0477559553235  0.0489243857854  0.0467953243041\n",
       "[2]  0.0703445996078  0.0481898751365  0.0440731544408  0.0380868297543\n",
       "[3]    0.04694080259  0.0559023861111  0.0476613276222  0.0514445110813\n",
       "[4]  0.0392044389868  0.0505034943146  0.0379837477357  0.0594319702901\n",
       "[5]  0.0439616095735  0.0489615862681  0.0471005965492  0.0587128877862\n",
       "[6]   0.048631696559  0.0465870824597  0.0482053697374  0.0494211703322\n",
       "[7]  0.0381575216995  0.0437476952473   0.043297141337  0.0289914669924\n",
       "[8]  0.0384127804592  0.0542181789218  0.0574244756541  0.0377643537812\n",
       "[9]  0.0834294330908  0.0351870113971  0.0477497184336  0.0428106530383\n",
       "\n",
       "[#]  topic_20       \n",
       "====================\n",
       "[0]  0.0466870911167\n",
       "[1]  0.0391030620905\n",
       "[2]  0.0649816499208\n",
       "[3]  0.0528269753167\n",
       "[4]  0.0466837725227\n",
       "[5]  0.0484289877581\n",
       "[6]  0.0496041017001\n",
       "[7]  0.0466110501969\n",
       "[8]  0.0448338124006\n",
       "[9]  0.0458640291143"
      ]
     },
     "execution_count": 91,
     "metadata": {},
     "output_type": "execute_result"
    }
   ],
   "source": [
    "tutorial_pubmed_lda.inspect(columns=[i for i in tutorial_pubmed_lda.column_names if i != 'data_lines'])"
   ]
  },
  {
   "cell_type": "code",
   "execution_count": 101,
   "metadata": {
    "collapsed": false
   },
   "outputs": [
    {
     "name": "stdout",
     "output_type": "stream",
     "text": [
      "[=========================] 100.00% Tasks retries:0 Time 0:00:42\n"
     ]
    }
   ],
   "source": [
    "pmids = tutorial_pubmed_lda.download(n=tutorial_pubmed_lda.row_count, columns='PMID')\n",
    "unique_pmids = list(set(list(pmids['PMID'])))\n",
    "random.shuffle(unique_pmids)\n",
    "test_pmids = unique_pmids[0:int(len(unique_pmids) * 0.10)]\n",
    "\n",
    "\n",
    "def label_train_test(row, test_list=test_pmids, train_list=train_pmids):\n",
    "    if row['PMID'] in test_pmids:\n",
    "        return \"TEST\"\n",
    "    else:\n",
    "        return \"TRAIN\"\n",
    "    \n",
    "\n",
    "tutorial_pubmed_lda.add_columns(label_train_test, (\"DATASET\", str))"
   ]
  },
  {
   "cell_type": "code",
   "execution_count": 103,
   "metadata": {
    "collapsed": false
   },
   "outputs": [
    {
     "name": "stdout",
     "output_type": "stream",
     "text": [
      "[=========================] 100.00% Tasks retries:0 Time 0:00:12\n",
      "[=========================] 100.00% Tasks retries:0 Time 0:00:13\n",
      "[=========================] 100.00% Tasks retries:0 Time 0:00:13\n",
      "[=========================] 100.00% Tasks retries:0 Time 0:00:09\n"
     ]
    }
   ],
   "source": [
    "trainframe = tutorial_pubmed_lda.copy()\n",
    "trainframe.filter(lambda row: row['DATASET'] == \"TRAIN\")\n",
    "testframe = tutorial_pubmed_lda.copy()\n",
    "testframe.filter(lambda row: row['DATASET'] == \"TEST\")"
   ]
  },
  {
   "cell_type": "code",
   "execution_count": 104,
   "metadata": {
    "collapsed": false
   },
   "outputs": [
    {
     "name": "stdout",
     "output_type": "stream",
     "text": [
      "[=========================] 100.00%  Time 0:00:00\n"
     ]
    }
   ],
   "source": [
    "rf_model_tutorial = ia.RandomForestClassifierModel('rf_model_intel_tutorial1')"
   ]
  },
  {
   "cell_type": "code",
   "execution_count": 105,
   "metadata": {
    "collapsed": false
   },
   "outputs": [
    {
     "name": "stdout",
     "output_type": "stream",
     "text": [
      "[=========================] 100.00% Tasks retries:0 Time 0:00:06\n"
     ]
    }
   ],
   "source": [
    "rf_model_tutorial_results = rf_model_tutorial.train(frame=trainframe, \n",
    "                                                    label_column=\"GS\", \n",
    "                                                    observation_columns=[\"topic_1\", \"topic_2\"], \n",
    "                                                    num_classes=2, \n",
    "                                                    impurity='gini', \n",
    "                                                    max_depth=4, \n",
    "                                                    seed=01001000\n",
    "                                                   )"
   ]
  },
  {
   "cell_type": "code",
   "execution_count": 106,
   "metadata": {
    "collapsed": false
   },
   "outputs": [
    {
     "name": "stdout",
     "output_type": "stream",
     "text": [
      "[=========================] 100.00% Tasks retries:0 Time 0:00:01\n"
     ]
    }
   ],
   "source": [
    "# test the model\n",
    "x = rf_model_tutorial.test(testframe, \"GS\")"
   ]
  },
  {
   "cell_type": "code",
   "execution_count": 107,
   "metadata": {
    "collapsed": false
   },
   "outputs": [
    {
     "data": {
      "text/plain": [
       "Precision: 0.0\n",
       "Recall: 0.0\n",
       "Accuracy: 0.990798129206\n",
       "FMeasure: 0.0\n",
       "Confusion Matrix: \n",
       "            Predicted_Pos  Predicted_Neg\n",
       "Actual_Pos              0            242\n",
       "Actual_Neg              0          26057"
      ]
     },
     "execution_count": 107,
     "metadata": {},
     "output_type": "execute_result"
    }
   ],
   "source": [
    "x"
   ]
  },
  {
   "cell_type": "code",
   "execution_count": null,
   "metadata": {
    "collapsed": true
   },
   "outputs": [],
   "source": [
    "#x.publish()"
   ]
  },
  {
   "cell_type": "code",
   "execution_count": null,
   "metadata": {
    "collapsed": true
   },
   "outputs": [],
   "source": []
  }
 ],
 "metadata": {
  "kernelspec": {
   "display_name": "Python 2",
   "language": "python",
   "name": "python2"
  },
  "language_info": {
   "codemirror_mode": {
    "name": "ipython",
    "version": 2
   },
   "file_extension": ".py",
   "mimetype": "text/x-python",
   "name": "python",
   "nbconvert_exporter": "python",
   "pygments_lexer": "ipython2",
   "version": "2.7.5"
  }
 },
 "nbformat": 4,
 "nbformat_minor": 0
}
