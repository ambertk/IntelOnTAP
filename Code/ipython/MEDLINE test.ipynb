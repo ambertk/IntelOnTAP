{
 "cells": [
  {
   "cell_type": "code",
   "execution_count": null,
   "metadata": {
    "collapsed": false
   },
   "outputs": [],
   "source": [
    "import re\n",
    "import random\n",
    "import os.path\n",
    "import trustedanalytics as ia\n",
    "\n",
    "ia.connect()"
   ]
  },
  {
   "cell_type": "code",
   "execution_count": null,
   "metadata": {
    "collapsed": true
   },
   "outputs": [],
   "source": [
    "# CONSTANTS...\n",
    "HDFS_DATADIR_PATH = \"data/TAPfest\"\n",
    "MEDLINEDIR = \"PubMed\"\n",
    "# /PubmedArticle"
   ]
  },
  {
   "cell_type": "code",
   "execution_count": null,
   "metadata": {
    "collapsed": true
   },
   "outputs": [],
   "source": [
    "def parse_xml_to_frame(path, tag, name):\n",
    "    \"\"\"\n",
    "    Helper function to convert an xml file on the hdfs into a data frame...\n",
    "    \"\"\"\n",
    "    xml = ia.XmlFile(path, tag)\n",
    "    \n",
    "    # Check that the frame doesn't already exist. Drop it, if it does...\n",
    "    if name in ia.get_frame_names():\n",
    "        sys.stderr.write(\"Dropping existing frame named {NAME}...\\n\".format(NAME=name))\n",
    "        ia.drop_frames(name)\t\n",
    "    frame = ia.Frame(xml, name=name)\n",
    "    return frame"
   ]
  },
  {
   "cell_type": "code",
   "execution_count": null,
   "metadata": {
    "collapsed": false
   },
   "outputs": [],
   "source": [
    "ia.drop_frames(\"tutorial_pubmed_frame\")\n",
    "tutorial_pubmed_frame = parse_xml_to_frame(path=os.path.join(HDFS_DATADIR_PATH, MEDLINEDIR), tag=\"PubmedArticle\", name=\"tutorial_pubmed_frame\")"
   ]
  },
  {
   "cell_type": "code",
   "execution_count": null,
   "metadata": {
    "collapsed": false
   },
   "outputs": [],
   "source": [
    "tutorial_pubmed_frame.column_names"
   ]
  },
  {
   "cell_type": "code",
   "execution_count": null,
   "metadata": {
    "collapsed": false
   },
   "outputs": [],
   "source": [
    "def get_pmid(row):\n",
    "    xml = row[0]\n",
    "    try:\n",
    "        return re.findall(r'\\<PMID Version\\=\\\"1\\\"\\>(\\d+)\\</PMID\\>', xml)[0]\n",
    "    except:\n",
    "        return 0\n",
    "\n",
    "def get_mesh_terms(row):\n",
    "    xml = row[0]\n",
    "    try:\n",
    "        keywords = re.findall(r'\\<KeywordList Owner\\=\\\"NLM\\\"\\>(.*?)\\</KeywordList\\>', xml, re.DOTALL)[0]\n",
    "    except:\n",
    "        return ''\n",
    "    kws = re.findall(r'<Keyword MajorTopicYN\\=\\\"Y\\\">(.*?)\\</Keyword\\>', keywords)\n",
    "    if len(kws) > 1:\n",
    "        return \"|\".join(kws)\n",
    "    elif len(kws) == 1:\n",
    "        return kws[0]\n",
    "\n",
    "def get_article_title(row):\n",
    "    xml = row[0]\n",
    "    try:\n",
    "        article = re.findall(r'\\<Article PubModel\\=\\\"Print\\\"\\>(.*?)\\</Article\\>', xml, re.DOTALL)[0]\n",
    "    except:\n",
    "        return 'None'\n",
    "    try:\n",
    "        title = re.findall(r'\\<ArticleTitle\\>\\[?(.*?)\\]?\\</ArticleTitle\\>', xml)[0]\n",
    "        if title[-1] == \"]\":\n",
    "            title = title[0:-1]\n",
    "        elif title[len(title)-2:] == \"].\":\n",
    "            title = title[:len(title)-2]\n",
    "    except:\n",
    "        tirle = 'None'\n",
    "    return title\n",
    "    \n",
    "# tutorial_pubmed_frame.drop_columns([\"PMID\", \"MeSH\", \"TITLE\"])\n",
    "tutorial_pubmed_frame.add_columns(get_pmid, (\"PMID\", str))\n",
    "tutorial_pubmed_frame.add_columns(get_mesh_terms, (\"MeSH\", str))\n",
    "tutorial_pubmed_frame.add_columns(get_article_title, (\"TITLE\", str))"
   ]
  },
  {
   "cell_type": "code",
   "execution_count": null,
   "metadata": {
    "collapsed": false
   },
   "outputs": [],
   "source": [
    "tutorial_pubmed_frame.column_names"
   ]
  },
  {
   "cell_type": "code",
   "execution_count": null,
   "metadata": {
    "collapsed": false
   },
   "outputs": [],
   "source": [
    "# tutorial_pubmed_frame.inspect(n=100, columns=[i for i in tutorial_pubmed_frame.column_names if i != 'data_lines'])\n",
    "tutorial_pubmed_frame.row_count"
   ]
  },
  {
   "cell_type": "code",
   "execution_count": null,
   "metadata": {
    "collapsed": false
   },
   "outputs": [],
   "source": [
    "def filter_mesh(row):\n",
    "\treturn row['MeSH'] != ''\n",
    "\n",
    "def filter_title(row):\n",
    "    return row['TITLE'] != 'None'\n",
    "\n",
    "# Filter out any rows without patid or visid...\n",
    "tutorial_pubmed_frame.filter(filter_mesh)\n",
    "tutorial_pubmed_frame.filter(filter_title)"
   ]
  },
  {
   "cell_type": "code",
   "execution_count": null,
   "metadata": {
    "collapsed": false
   },
   "outputs": [],
   "source": [
    "tutorial_pubmed_frame.row_count"
   ]
  },
  {
   "cell_type": "code",
   "execution_count": null,
   "metadata": {
    "collapsed": false
   },
   "outputs": [],
   "source": [
    "tutorial_pubmed_frame.inspect(n=15, columns=[i for i in tutorial_pubmed_frame.column_names if i != 'data_lines'])"
   ]
  },
  {
   "cell_type": "code",
   "execution_count": null,
   "metadata": {
    "collapsed": false
   },
   "outputs": [],
   "source": [
    "tutorial_pubmed_frame.column_names"
   ]
  },
  {
   "cell_type": "code",
   "execution_count": null,
   "metadata": {
    "collapsed": false
   },
   "outputs": [],
   "source": [
    "def add_gs(row):\n",
    "    mesh = row['MeSH']\n",
    "    mesh = mesh.lower()\n",
    "    if 'skin' in mesh:\n",
    "        return 1\n",
    "    else:\n",
    "        return 0\n",
    "\n",
    "tutorial_pubmed_frame.drop_columns(\"GS\")    \n",
    "tutorial_pubmed_frame.add_columns(add_gs, (\"GS\", ia.int32))"
   ]
  },
  {
   "cell_type": "code",
   "execution_count": null,
   "metadata": {
    "collapsed": false
   },
   "outputs": [],
   "source": [
    "tutorial_pubmed_frame.column_names"
   ]
  },
  {
   "cell_type": "code",
   "execution_count": null,
   "metadata": {
    "collapsed": false
   },
   "outputs": [],
   "source": [
    "tutorial_pubmed_frame.categorical_summary(\"GS\")"
   ]
  },
  {
   "cell_type": "code",
   "execution_count": null,
   "metadata": {
    "collapsed": false
   },
   "outputs": [],
   "source": [
    "# Create a working copy...\n",
    "lts = tutorial_pubmed_frame.copy()\n",
    "\n",
    "# Flatten on the separating character...\n",
    "lts.flatten_column(\"MeSH\", \"|\")\n",
    "\n",
    "# We need to create a table ox ID x MED x Count...\n",
    "lts_lda_input = lts.group_by([\"PMID\", \"MeSH\"], ia.agg.count)\n",
    "if \"lts_lda_input_renamed\" in ia.get_frame_names():\n",
    "    ia.drop_frames(\"lts_lda_input_renamed\")\n",
    "lts_lda_input_renamed = lts_lda_input.copy(name = \"lts_lda_input_renamed\")"
   ]
  },
  {
   "cell_type": "code",
   "execution_count": null,
   "metadata": {
    "collapsed": false
   },
   "outputs": [],
   "source": [
    "# Set the parameters for the LDA model...\n",
    "nTopics = 20\n",
    "max_iterations = 2\n",
    "\n",
    "# Clean up any old attempts...\n",
    "ia.drop_models(['lts_lda_model'])\n",
    "\n",
    "# Create LDA model..\n",
    "lda_model =  ia.LdaModel(name='lts_lda_model')\n",
    "lts_lda_model = lda_model.train(lts_lda_input_renamed, \"PMID\", \"MeSH\", 'count', num_topics=nTopics, max_iterations=max_iterations)\n",
    "\n",
    "# We can extract the per-id topic distributions...\n",
    "doc_mixes = lts_lda_model['topics_given_doc']"
   ]
  },
  {
   "cell_type": "code",
   "execution_count": null,
   "metadata": {
    "collapsed": false
   },
   "outputs": [],
   "source": [
    "# Clean up old approaches...\n",
    "ia.drop_frames(['lts_lda_feature_frame'])\n",
    "\n",
    "# Copy the document x topic frame...\n",
    "lts_lda_feature_frame = doc_mixes.copy(name='lts_lda_feature_frame')\n",
    "\n",
    "# Create schema...\n",
    "schema = map(lambda i: ('topic' + \"_\" + str(i), ia.float64), range(1, nTopics + 1))\n",
    "\n",
    "# Create features frame...\n",
    "lts_lda_feature_frame.add_columns(lambda row: (row['topic_probabilities']), schema)\n",
    "lts_lda_feature_frame.drop_columns(['topic_probabilities'])"
   ]
  },
  {
   "cell_type": "code",
   "execution_count": null,
   "metadata": {
    "collapsed": true
   },
   "outputs": [],
   "source": [
    "lts_lda_feature_frame.inspect()"
   ]
  },
  {
   "cell_type": "code",
   "execution_count": null,
   "metadata": {
    "collapsed": false
   },
   "outputs": [],
   "source": [
    "tutorial_pubmed_lda = tutorial_pubmed_frame.join(lts_lda_feature_frame, 'PMID')"
   ]
  },
  {
   "cell_type": "code",
   "execution_count": null,
   "metadata": {
    "collapsed": false
   },
   "outputs": [],
   "source": [
    "tutorial_pubmed_lda.inspect(columns=[i for i in tutorial_pubmed_lda.column_names if i != 'data_lines'])"
   ]
  },
  {
   "cell_type": "code",
   "execution_count": null,
   "metadata": {
    "collapsed": false
   },
   "outputs": [],
   "source": [
    "pmids = tutorial_pubmed_lda.download(n=tutorial_pubmed_lda.row_count, columns='PMID')\n",
    "unique_pmids = list(set(list(pmids['PMID'])))\n",
    "random.shuffle(unique_pmids)\n",
    "test_pmids = unique_pmids[0:int(len(unique_pmids) * 0.10)]\n",
    "\n",
    "\n",
    "def label_train_test(row, test_list=test_pmids, train_list=train_pmids):\n",
    "    if row['PMID'] in test_pmids:\n",
    "        return \"TEST\"\n",
    "    else:\n",
    "        return \"TRAIN\"\n",
    "    \n",
    "\n",
    "tutorial_pubmed_lda.add_columns(label_train_test, (\"DATASET\", str))"
   ]
  },
  {
   "cell_type": "code",
   "execution_count": null,
   "metadata": {
    "collapsed": false
   },
   "outputs": [],
   "source": [
    "trainframe = tutorial_pubmed_lda.copy()\n",
    "trainframe.filter(lambda row: row['DATASET'] == \"TRAIN\")\n",
    "testframe = tutorial_pubmed_lda.copy()\n",
    "testframe.filter(lambda row: row['DATASET'] == \"TEST\")"
   ]
  },
  {
   "cell_type": "code",
   "execution_count": null,
   "metadata": {
    "collapsed": false
   },
   "outputs": [],
   "source": [
    "rf_model_tutorial = ia.RandomForestClassifierModel('rf_model_intel_tutorial1')"
   ]
  },
  {
   "cell_type": "code",
   "execution_count": null,
   "metadata": {
    "collapsed": false
   },
   "outputs": [],
   "source": [
    "rf_model_tutorial_results = rf_model_tutorial.train(frame=trainframe, \n",
    "                                                    label_column=\"GS\", \n",
    "                                                    observation_columns=[\"topic_1\", \"topic_2\"], \n",
    "                                                    num_classes=2, \n",
    "                                                    impurity='gini', \n",
    "                                                    max_depth=4, \n",
    "                                                    seed=01001000\n",
    "                                                   )"
   ]
  },
  {
   "cell_type": "code",
   "execution_count": null,
   "metadata": {
    "collapsed": false
   },
   "outputs": [],
   "source": [
    "# test the model\n",
    "x = rf_model_tutorial.test(testframe, \"GS\")"
   ]
  },
  {
   "cell_type": "code",
   "execution_count": null,
   "metadata": {
    "collapsed": false
   },
   "outputs": [],
   "source": [
    "x"
   ]
  },
  {
   "cell_type": "code",
   "execution_count": null,
   "metadata": {
    "collapsed": true
   },
   "outputs": [],
   "source": [
    "#x.publish()"
   ]
  },
  {
   "cell_type": "code",
   "execution_count": null,
   "metadata": {
    "collapsed": true
   },
   "outputs": [],
   "source": []
  }
 ],
 "metadata": {
  "kernelspec": {
   "display_name": "Python 2",
   "language": "python",
   "name": "python2"
  },
  "language_info": {
   "codemirror_mode": {
    "name": "ipython",
    "version": 2
   },
   "file_extension": ".py",
   "mimetype": "text/x-python",
   "name": "python",
   "nbconvert_exporter": "python",
   "pygments_lexer": "ipython2",
   "version": "2.7.5"
  }
 },
 "nbformat": 4,
 "nbformat_minor": 0
}
