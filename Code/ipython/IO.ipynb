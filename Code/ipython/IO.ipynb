{
 "cells": [
  {
   "cell_type": "markdown",
   "metadata": {},
   "source": [
    "![TAP](https://avatars2.githubusercontent.com/u/13385739?v=3&s=200 \"TAP\")\n",
    "# Module 1: Data Ingest\n",
    "This module will give you an overview for how to data into the Toolkit from a variety of formats."
   ]
  },
  {
   "cell_type": "markdown",
   "metadata": {},
   "source": [
    "#### Import the necessary libraries and connect to the server:"
   ]
  },
  {
   "cell_type": "code",
   "execution_count": null,
   "metadata": {
    "collapsed": false,
    "slideshow": {
     "slide_type": "slide"
    }
   },
   "outputs": [],
   "source": [
    "import json\n",
    "import os.path\n",
    "import trustedanalytics as ia\n",
    "import xml.etree.ElementTree as ET\n",
    "\n",
    "# Connect to the analytics server...\n",
    "ia.connect()"
   ]
  },
  {
   "cell_type": "code",
   "execution_count": null,
   "metadata": {
    "collapsed": true
   },
   "outputs": [],
   "source": [
    "# CONSTANTS...\n",
    "HDFS_DATADIR_PATH = \"data/TAPfest\"\n",
    "CSVFILENAME = \"mtrees2015.bin\"\n",
    "XMLDIRNAME = \"drugbank.xml\"\n",
    "JSONDIRNAME = \"Inpat\""
   ]
  },
  {
   "cell_type": "markdown",
   "metadata": {
    "collapsed": true
   },
   "source": [
    "###Datasets!\n",
    "Let's examine them:\n",
    "\n",
    "\n",
    "|Name   |Size   |nRecords   |Format   |Comment   |\n",
    "|---|---|---|---|---|\n",
    "|MeSH   |2MB   |56,341   |_.csv_   |*c/o the National Library of Medicine|\n",
    "|PubChem   |1.4GB   |36,069   |_.xml_   |*c/o the National Library of Medicine   |\n",
    "|Drugbank   |223MB   |7740   |_.xml_   |Data set of curated drug metadata   |\n",
    "|Inpat   |410MB   |474   |_.json_   |PennMed inpatient data (subset)   |\n",
    "\n"
   ]
  },
  {
   "cell_type": "markdown",
   "metadata": {
    "collapsed": true
   },
   "source": [
    "#### Importing _csv_"
   ]
  },
  {
   "cell_type": "code",
   "execution_count": null,
   "metadata": {
    "collapsed": false
   },
   "outputs": [],
   "source": [
    "mesh_schema = schema = [(\"NAME\", str), (\"PATH\", str)]\n",
    "mesh_csv = ia.CsvFile(os.path.join(HDFS_DATADIR_PATH, CSVFILENAME), schema, delimiter=\";\")\n",
    "mesh_frame = ia.Frame(source=mesh_csv, name=\"tutorial_mesh_frame\")"
   ]
  },
  {
   "cell_type": "markdown",
   "metadata": {},
   "source": [
    "#### Import _xml_"
   ]
  },
  {
   "cell_type": "code",
   "execution_count": null,
   "metadata": {
    "collapsed": true
   },
   "outputs": [],
   "source": [
    "def parse_xml_to_frame(path, tag, name):\n",
    "    \"\"\"\n",
    "    Helper function to convert an xml file on the hdfs into a data frame...\n",
    "    \"\"\"\n",
    "    xml = ia.XmlFile(path, tag)\n",
    "    \n",
    "    # Check that the frame doesn't already exist. Drop it, if it does...\n",
    "    if name in ia.get_frame_names():\n",
    "        sys.stderr.write(\"Dropping existing frame named {NAME}...\\n\".format(NAME=name))\n",
    "        ia.drop_frames(name)\t\n",
    "    frame = ia.Frame(xml, name=name)\n",
    "    return frame"
   ]
  },
  {
   "cell_type": "code",
   "execution_count": null,
   "metadata": {
    "collapsed": false
   },
   "outputs": [],
   "source": [
    "drugbank_frame = parse_xml_to_frame(path=os.path.join(HDFS_DATADIR_PATH, XMLDIRNAME), tag=\"drug\", name=\"tutorial_drugbank_frame\")"
   ]
  },
  {
   "cell_type": "markdown",
   "metadata": {},
   "source": [
    "#### Importing _json_"
   ]
  },
  {
   "cell_type": "code",
   "execution_count": null,
   "metadata": {
    "collapsed": false
   },
   "outputs": [],
   "source": [
    "inpat_json = ia.JsonFile(os.path.join(HDFS_DATADIR_PATH, JSONDIRNAME))\n",
    "try:\n",
    "    ia.drop_frames([\"tutorial_inpat_frame\"])\n",
    "except:\n",
    "    pass\n",
    "inpat_frame = ia.Frame(inpat_json, name=\"tutorial_inpat_frame\")"
   ]
  },
  {
   "cell_type": "code",
   "execution_count": null,
   "metadata": {
    "collapsed": false
   },
   "outputs": [],
   "source": [
    "def extract_PATID(row):\n",
    "    my_json = json.loads(row[0])\n",
    "    PATID = my_json['PATID'] if 'PATID' in my_json else 'None'\n",
    "    return PATID"
   ]
  },
  {
   "cell_type": "code",
   "execution_count": null,
   "metadata": {
    "collapsed": false
   },
   "outputs": [],
   "source": [
    "inpat_frame.add_columns(extract_PATID, [(\"PATIENT_ID\", str)])"
   ]
  }
 ],
 "metadata": {
  "kernelspec": {
   "display_name": "Python 2",
   "language": "python",
   "name": "python2"
  },
  "language_info": {
   "codemirror_mode": {
    "name": "ipython",
    "version": 2
   },
   "file_extension": ".py",
   "mimetype": "text/x-python",
   "name": "python",
   "nbconvert_exporter": "python",
   "pygments_lexer": "ipython2",
   "version": "2.7.5"
  }
 },
 "nbformat": 4,
 "nbformat_minor": 0
}
