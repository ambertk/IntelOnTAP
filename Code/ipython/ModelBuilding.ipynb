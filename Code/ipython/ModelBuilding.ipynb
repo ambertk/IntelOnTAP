{
 "cells": [
  {
   "cell_type": "code",
   "execution_count": 1,
   "metadata": {
    "collapsed": false
   },
   "outputs": [
    {
     "name": "stderr",
     "output_type": "stream",
     "text": [
      "WARNING:trustedanalytics.core.frame:Unable to inherit doc stubs from docstubs.py for _DocStubsBaseFrame: cannot import name _DocStubs_BaseFrame\n",
      "WARNING:trustedanalytics.core.graph:Unable to inherit doc stubs from docstubs.py for _DocStubsBaseGraph: cannot import name _DocStubsBaseGraph\n",
      "WARNING:trustedanalytics.core.model:Unable to inherit doc stubs from docstubs.py for _DocStubs_BaseModel: cannot import name _DocStubs_BaseModel\n"
     ]
    },
    {
     "name": "stdout",
     "output_type": "stream",
     "text": [
      "Connected.  This client instance connected to server http://localhost:9099/v1 (version=0.4.3-201511049238) as user test_api_key_1 at 2015-11-10 11:38:52.038901.\n"
     ]
    }
   ],
   "source": [
    "import json\n",
    "import datetime\n",
    "import trustedanalytics as ia\n",
    "\n",
    "ia.connect()"
   ]
  },
  {
   "cell_type": "markdown",
   "metadata": {},
   "source": [
    "## Set up frame..."
   ]
  },
  {
   "cell_type": "code",
   "execution_count": 2,
   "metadata": {
    "collapsed": true
   },
   "outputs": [],
   "source": [
    "def add_ids(row):\n",
    "    my_json = json.loads(row[0])\n",
    "    patid = my_json['PATID'] if 'PATID' in my_json else None\n",
    "    visid = my_json['VISID'] if 'VISID' in my_json else None\n",
    "    return patid, visid\n",
    "\n",
    "def add_height(row):\n",
    "    \"\"\"Function to extract height in inches from json, and add as column in data frame.\"\"\"\n",
    "    my_json = json.loads(row[0])\n",
    "    HEIGHT_INCHES = my_json['HEIGHT_INCHES'] if 'HEIGHT_INCHES' in my_json else 0.0\n",
    "    return HEIGHT_INCHES\n",
    "\n",
    "def add_age(row):\n",
    "    my_json = json.loads(row[0])\n",
    "    AGE = my_json['AGE'] if 'AGE' in my_json else 0\n",
    "    return AGE\n",
    "\n",
    "def add_weight(row):\n",
    "    my_json = json.loads(row[0])\n",
    "    WEIGHT_LBS = 150.0\n",
    "    if 'WEIGHT_LBS' in my_json:\n",
    "        WEIGHT_LBS = my_json['WEIGHT_LBS']\n",
    "    try:\n",
    "        WEIGHT_LBS = ia.float64(WEIGHT_LBS)\n",
    "    except:\n",
    "        WEIGHT_LBS = 150.0\n",
    "    return WEIGHT_LBS\n",
    "\n",
    "def add_marital_status(row):\n",
    "    my_json = json.loads(row[0])\n",
    "    MARITAL_STATUS = my_json['MARITAL_STATUS'] if 'MARITAL_STATUS' in my_json else None\n",
    "    return MARITAL_STATUS\n",
    "\n",
    "def add_death_flag(row):\n",
    "\tmy_json = json.loads(row[0])\n",
    "\tDEATH_FLAG = my_json['DEATH_FLAG'] if 'DEATH_FLAG' in my_json else None\n",
    "\treturn DEATH_FLAG\n",
    "\n",
    "def add_meds(row):\n",
    "    my_json = json.loads(row[0])\n",
    "    med_orders = my_json['MED_ORDER_NAMEs'] if 'MED_ORDER_NAMEs' in my_json else [None]\n",
    "    discharge_med_orders = my_json['DISCHARGE_MED_ORDER_NAMEs'] if 'DISCHARGE_MED_ORDER_NAMEs' in my_json else [None]\n",
    "    if med_orders != [None] and discharge_med_orders != [None]:\n",
    "        meds = med_orders + discharge_med_orders\n",
    "    elif med_orders == [None]:\n",
    "        meds = discharge_med_orders\n",
    "    elif discharge_med_orders == [None]:\n",
    "        meds = med_orders\n",
    "    #if med_orders != [None]:\n",
    "    #    med_orders = [clean_drugs.preprocess(i) for i in med_orders]\n",
    "    return '|'.join([str(i) for i in med_orders])\n",
    "\n",
    "def add_marital_status(row):\n",
    "    my_json = json.loads(row[0])\n",
    "    MARITAL_STATUS = my_json['MARITAL_STATUS'] if 'MARITAL_STATUS' in my_json else None\n",
    "    return MARITAL_STATUS"
   ]
  },
  {
   "cell_type": "code",
   "execution_count": 3,
   "metadata": {
    "collapsed": false
   },
   "outputs": [
    {
     "name": "stdout",
     "output_type": "stream",
     "text": [
      "[=========================] 100.00% Tasks retries:0 Time 0:00:09\n",
      "[=========================] 100.00% Tasks retries:0 Time 0:00:30\n",
      "[=========================] 100.00% Tasks retries:0 Time 0:00:13\n",
      "[=========================] 100.00% Tasks retries:0 Time 0:00:11\n",
      "[=========================] 100.00% Tasks retries:0 Time 0:00:14\n",
      "[=========================] 100.00% Tasks retries:0 Time 0:00:17\n",
      "[=========================] 100.00% Tasks retries:0 Time 0:00:15\n",
      "[=========================] 100.00% Tasks retries:0 Time 0:00:17\n",
      "[=========================] 100.00% Tasks retries:0 Time 0:00:19\n",
      "[=========================] 100.00% Tasks retries:0 Time 0:00:19\n"
     ]
    }
   ],
   "source": [
    "#Load data frame and start fresh...\n",
    "tutorial_inpat = ia.get_frame(\"tutorial_inpat_frame\")\n",
    "tutorial_inpat_model = tutorial_inpat.copy()\n",
    "tutorial_inpat_model.drop_columns([i for i in tutorial_inpat_model.column_names if i != 'data_lines'])\n",
    "tutorial_inpat_model.add_columns(add_ids, [(\"PATID\", str), (\"VISID\", str)])\n",
    "tutorial_inpat_model.add_columns(lambda row: str(row[\"PATID\"]) + str(row[\"VISID\"]), (\"EVENT_ID\", str))\n",
    "tutorial_inpat_model.add_columns(add_height, (\"HEIGHT_INCHES\", ia.float64))\n",
    "tutorial_inpat_model.add_columns(add_marital_status, (\"MARITAL_STATUS\", str))\n",
    "tutorial_inpat_model.add_columns(add_weight, (\"WEIGHT_LBS\", ia.float64))\n",
    "tutorial_inpat_model.add_columns(add_death_flag, (\"DEATH_FLAG\", str))\n",
    "tutorial_inpat_model.add_columns(add_age, (\"AGE\", ia.float64))\n",
    "tutorial_inpat_model.add_columns(add_meds, (\"MEDS\", str))"
   ]
  },
  {
   "cell_type": "code",
   "execution_count": 4,
   "metadata": {
    "collapsed": true
   },
   "outputs": [],
   "source": [
    "def add_admit_date(row):\n",
    "    \"\"\"Function to extract the admit date for a patient\"\"\"\n",
    "    my_json = json.loads(row[0])\n",
    "    try:\n",
    "        ADMIT_DATE = my_json['ADM_DATE']['$date']/1000\n",
    "    except:\n",
    "        ADMIT_DATE = None\n",
    "    return ADMIT_DATE\n",
    "\n",
    "def add_discharge_date(row):\n",
    "    \"\"\"Function to extract the discharge date of a patient\"\"\"\n",
    "    my_json = json.loads(row[0])\n",
    "    try:\n",
    "        DISCHARGE_DATE = my_json['DISCHARGE_DATE']['$date']/1000\n",
    "    except:\n",
    "        DISCHARGE_DATE = None\n",
    "    return DISCHARGE_DATE"
   ]
  },
  {
   "cell_type": "code",
   "execution_count": 5,
   "metadata": {
    "collapsed": false
   },
   "outputs": [
    {
     "name": "stdout",
     "output_type": "stream",
     "text": [
      "[=========================] 100.00% Tasks retries:0 Time 0:00:18\n",
      "[=========================] 100.00% Tasks retries:0 Time 0:00:19\n"
     ]
    }
   ],
   "source": [
    "# Add admit and discharge date columns to our data frame...\n",
    "tutorial_inpat_model.add_columns(add_admit_date, (\"ADM_DATE\", str))\n",
    "tutorial_inpat_model.add_columns(add_discharge_date, (\"DISCHARGE_DATE\", str))"
   ]
  },
  {
   "cell_type": "code",
   "execution_count": 6,
   "metadata": {
    "collapsed": false,
    "scrolled": true
   },
   "outputs": [
    {
     "data": {
      "text/plain": [
       "[#]  PATID                 VISID               \n",
       "===============================================\n",
       "[0]  a21ed8168a129a627dc7  ea8c4671999dbfc306e9\n",
       "[1]  ce2c320507f9afc8a6be  475b875637ad2c3a97f6\n",
       "[2]  6b5e9b5979e90670ccc4  c87ea2714e1700c18cbd\n",
       "[3]  3db6c2b132f1e7980be9  bddbbca37fc65b251e95\n",
       "[4]  193876054eb69bbf5fa7  d83873c4ca458bdcedda\n",
       "[5]  8a865e88a484cd0eb47d  3d232aded17358de322f\n",
       "[6]  5b31441e3c35d1912b87  667741db17f135fd04bb\n",
       "[7]  77ce9838cd87649a3b6c  835ff02eb60c6fcf1793\n",
       "[8]  062e213248c7513e8aa5  18fc863241929168fa5b\n",
       "[9]  6fca5d705add2fa21213  a5fe7f2d6717a5ff2162\n",
       "\n",
       "[#]  EVENT_ID                                  HEIGHT_INCHES  MARITAL_STATUS\n",
       "============================================================================\n",
       "[0]  a21ed8168a129a627dc7ea8c4671999dbfc306e9  64.0157470703  S\n",
       "[1]  ce2c320507f9afc8a6be475b875637ad2c3a97f6  62.0078735352  D\n",
       "[2]  6b5e9b5979e90670ccc4c87ea2714e1700c18cbd  62.9921264648  M\n",
       "[3]  3db6c2b132f1e7980be9bddbbca37fc65b251e95  62.9921264648  S\n",
       "[4]  193876054eb69bbf5fa7d83873c4ca458bdcedda  65.9842529297  S\n",
       "[5]  8a865e88a484cd0eb47d3d232aded17358de322f  69.0157470703  S\n",
       "[6]  5b31441e3c35d1912b87667741db17f135fd04bb  77.0078735352  M\n",
       "[7]  77ce9838cd87649a3b6c835ff02eb60c6fcf1793  74.0157470703  S\n",
       "[8]  062e213248c7513e8aa518fc863241929168fa5b  62.0078735352  S\n",
       "[9]  6fca5d705add2fa21213a5fe7f2d6717a5ff2162   60.984249115  M\n",
       "\n",
       "[#]  WEIGHT_LBS     DEATH_FLAG  AGE \n",
       "====================================\n",
       "[0]  126.499038696  0.0         77.0\n",
       "[1]  177.562515259  0.0         55.0\n",
       "[2]  166.889938354  0.0         77.0\n",
       "[3]  106.999153137  0.0         55.0\n",
       "[4]  221.000183105  0.0         25.0\n",
       "[5]   270.00012207  0.0         34.0\n",
       "[6]  239.999633789  0.0         67.0\n",
       "[7]  175.000732422  0.0         65.0\n",
       "[8]  153.662200928  0.0         39.0\n",
       "[9]  106.042350769  0.0         48.0\n",
       "\n",
       "[#]  MEDS                                                                       \n",
       "================================================================================\n",
       "[0]  (ADM OVERRIDE)|ipratropium nebulizer solution -|albuterol 2.5 mg/0.5 mL soln (no saline)|insulin aspart sliding scale_|aspirin enteric coated -|sertraline -|doxycycline -|oseltamivir_|docusate sodium -|ferrous sulfate -|metoprolol TARTRATE_|LevETIRAcetam oral liquid -|predniSONE -|colchicine -|lidocaine 5% topical -|enoxaparin injection_|atorvastatin -|potassium chloride 20 mEq oral tablet, extended release|chloraseptic spray -|sertraline 50 mg oral tablet|potassium chloride ER -|hydrocortisone rectal cream -|hydrALAZINE IVPB -|predniSONE 20 mg oral tablet|doxycycline\n",
       "[1]  dronabinol -|heparin injection -|bisacodyl suppository -|insulin aspart correction dosing -|oxyCODONE-acetaminophen 5 mg-325 mg -|amLODIPine -|aspirin enteric coated -|bisacodyl -|buPROPion IR-|DULoxetine -|ferrous sulfate -|furosemide -|insulin NPH human injection -|magnesium oxide tablet -|megestrol -|metoprolol TARTRATE -|lansoprazole DR -|cholecalciferol_|docusate sodium -|lactobacillus -|nystatin topical -|trypsin-balsam-castor topical -|senna concentrate -|DAPTOmycin IVPB -|oxyCODONE -|insulin aspart prandial injection -|QUEtiapine -|atorvastatin -|lidocaine 5% topical -|albuterol inhaler -|acetaminophen -|sodium polystyrene sulfonate suspension-|insulin glargine injection_|furosemide injection -|loperamide -|Al hydroxid/Mg hydroxide/simeth liquid -|atropine-diphenoxylate -|ondansetron intraVENOUS push.|ketorolac injection -|sodium chloride 0.9% -|alteplase catheter clearance syringe -|HYDROmorphone injection. -|fentanyl injection. -|ascorbic acid -|cholecalciferol oral tablet\n",
       "[2]  magnesium sulfate IVPB 1 Gram/D5W 100mL_|potassium chloride 20 mEq/50 mL IVPB_ -|niCARDipine 20mg in 200 mls isotonic diluent|dextrose 50% Prefilled Syringe -|HYDROmorphone injection -|potassium chloride ER -|dofetilide -|metoprolol TARTRATE -|amLODIPine -|insulin aspart correction dosing -|warfarin -|magnesium sulfate IVPB 4 Gram/SWFI -|metoprolol 50 mg oral tablet|Tikosyn 500 mcg oral capsule|warfarin therapy -|amLODIPine 5 mg oral tablet|fluid bolus lactated ringers -|insulin aspart meal dosing -|insulin infusion -|warfarin 2.5 mg oral tablet|oxyCODONE-acetaminophen 5 mg-325 mg -|docusate sodium -|senna concentrate -|heparin injection -|ranitidine -|HYDROmorphone -|polyethylene glycol oral packet -|bisacodyl suppository -|magnesium sulfate IVPB 2 Gram/SWFI 50mL-|Colace 100 mg oral capsule|Coumadin 1 mg oral tablet\n",
       "[3]  acetaminophen -|Al hydroxid/Mg hydroxide/simeth liquid -|magnesium hydroxide oral liquid -|chlordiazePOXIDE -|diphenhydrAMINE -|haloperidol -|haloperidol lactate injection -|LORazepam -|LORazepam injection -|multivitamin -|ibuprofen -|sertraline -|hydrochlorothiazide tablet -|lisinopril -|pravastatin -|gabapentin -|aspirin enteric coated -|QUEtiapine -\n",
       "[4]  diphenhydrAMINE injection -|LevETIRAcetam -|oxytocin infusion 15 Units/D5W 250 mL -|(ADM OVERRIDE)|lactated ringers -|acetaminophen -|acetaminophen-codeine #3 -|oxyCODONE-acetaminophen 5 mg-325 mg -|diphenhydrAMINE -|diphtheria-pertussis-tetanus, adult -|aluminum hydroxide-magnesium hydroxide -|benzocaine-menthol topical spray -|witch hazel-glycerin topical -|ibuprofen -|oxytocin 20 units/Lactated Ring.1000 mL-|senna concentrate -|hemorrhoidal ointment -|fentanyl 2 mcg/mL-bupivacaine 0.1% PCEA-|Peri-Colace 50 mg-8.6 mg oral tablet|EPHEDrine injection_|levETIRAcetam 500 mg oral tablet|ibuprofen 600 mg oral tablet|acetaminophen-codeine 300 mg-30 mg oral tablet\n",
       "[5]  penicillin G K IVPB 3 Mil Unit/D5W 50mL-|acetaminophen -|ibuprofen -|penicillin G K IVPB 5 Mil Unit/Dextrose 5 % 100mL|oxytocin infusion 15 Units/NSS 250 mL -|oxytocin 20 units/1000 mLs NSS|ibuprofen 600 mg oral tablet|Prenatal 1 oral capsule|dextrose 5%-sodium chloride 0.9% -|witch hazel-glycerin topical -|Feosol 325 mg (65 mg elemental iron) oral tablet|benzocaine-menthol topical spray -|Colace 100 mg oral capsule|norethindrone\n",
       "[6]  LORazepam -|benzonatate -|oxyCODONE -|albuterol 2.5 mg/0.5 mL soln (no saline)|ipratropium nebulizer solution -|gabapentin -|folic acid -|metoprolol SUCCINATE ER -|enoxaparin injection_|acetaminophen -|cefTRIAXone IVPB -|azithromycin IVPB -|fluid challenge NSS -|Levaquin 750 mg oral tablet|Percocet 5/325 325 mg-5 mg oral tablet|Tessalon Perles 100 mg oral capsule|LORazepam 0.5 mg oral tablet|omeprazole 20 mg oral delayed release capsule|SODIUM CHLORIDE 0.9 % IV SOLN|AZITHROMYCIN 250 MG PO TABS\n",
       "[7]  (ADM OVERRIDE)|nicotine 14 mg-24 hour topical -|albuterol 2.5 mg/0.5 mL soln (no saline)|ipratropium nebulizer solution -|heparin injection -|multivitamin B, C, Folate capsule -|fluconazole_|acetaminophen -|fluticasone-salmeterol 100 mcg/50 mcg -|predniSONE -|clotrimazole 1% topical -|albuterol inhaler -|salmeterol diskus inhaler -|albuterol|predniSONE 50 mg oral tablet|salmeterol|clotrimazole 1% topical cream\n",
       "[8]  heparin injection -|HYDROmorphone injection -|potassium chloride IVPB -|magnesium sulfate IVPB 2 Gram/SWFI 50mL-|dextrose 5%-sodium chloride 0.45% -|insulin infusion -|dextrose 50% Prefilled Syringe -|dextrose 40% oral -|lactated ringers -|ondansetron injection. -|ondansetron intraVENOUS push -|oxybutynin -|metoclopramide -|insulin glargine injection_|insulin aspart prandial injection -|gabapentin -|potassium phosphate neutral -|potassium chloride ER -|insulin aspart correction dosing -|magnesium oxide tablet -|dextrose 5%-sodium chloride 0.9% -|insulin aspart|INSULIN REGULAR HUMAN 100 UNIT/ML INJECTION SOLN|insulin glargine|ONDANSETRON HCL 4 MG/2ML INJECTION SOLN|MORPHINE SULFATE 4 MG/ML INJECTION SOLN|INSULIN ASPART 100 UNIT/ML SC SOLN|SODIUM CHLORIDE 0.9 % IV SOLN|METOCLOPRAMIDE HCL 5 MG/ML INJECTION SOLN|ondansetron 4 mg oral tablet|Pharmacy Med Reconciliation Consult for DC\n",
       "[9]  (ADM OVERRIDE)|sodium chloride 0.9% -|citalopram -|multivitamin therapeutic -|potassium chloride IVPB -|metronidazole IVPB 500mg in NSS 100 mL -|levoFLOXacin IVPB 500 mg in D5W 100 mL_|emtricitabine-tenofovir -|diphenhydrAMINE injection -|HYDROmorphone injection -|heparin injection -|darunavir_|rItONAvir -|diphenhydrAMINE oral liquid -|ondansetron intraVENOUS push -|mirtazapine -|Al hydroxid/Mg hydroxide/simeth liquid -|Pantoprazole - IV Push|magnesium oxide tablet -|levoFLOXacin IVPB 250 mg in D5W 50 mL_|HYDROmorphone -|sulfamethoxazole-trimethoprim DS -|pantoprazole -|potassium chloride ER -|ondansetron -|Remeron 15 mg oral tablet|REMERON PO|DIPHENHYDRAMINE HCL 50 MG/ML INJECTION SOLN|HYDROMORPHONE HCL 1 MG/ML INJECTION SOLN|ONDANSETRON HCL 4 MG/2ML INJECTION SOLN|CELEXA PO|HYDROCORTISONE SOD SUCCINATE 100 MG INJECTION SOLR|TRUVADA PO|XANAX PO|BACTRIM PO|NORVIR PO|DIATRIZOATE MEGLUMINE & SODIUM 66-10 % PO SOLN|PREZISTA PO|SODIUM CHLORIDE 0.9 % IV SOLN\n",
       "\n",
       "[#]  ADM_DATE    DISCHARGE_DATE\n",
       "===============================\n",
       "[0]  1557447300  1557755100\n",
       "[1]  1557448200  1558024080\n",
       "[2]  1557451200  1558789380\n",
       "[3]  1557451500  1558440600\n",
       "[4]  1557451560  1557682080\n",
       "[5]  1557452400  1557681180\n",
       "[6]  1557452820  1557588840\n",
       "[7]  1557452880  1557682980\n",
       "[8]  1557454440  1557758580\n",
       "[9]  1557455820  1557766860"
      ]
     },
     "execution_count": 6,
     "metadata": {},
     "output_type": "execute_result"
    }
   ],
   "source": [
    "tutorial_inpat_model.inspect(columns=[i for i in tutorial_inpat_model.column_names if i != 'data_lines'])"
   ]
  },
  {
   "cell_type": "markdown",
   "metadata": {},
   "source": [
    "#### Filter out missing ids..."
   ]
  },
  {
   "cell_type": "code",
   "execution_count": 7,
   "metadata": {
    "collapsed": false
   },
   "outputs": [
    {
     "name": "stdout",
     "output_type": "stream",
     "text": [
      "[=========================] 100.00% Tasks retries:0 Time 0:00:02\n",
      "[=========================] 100.00% Tasks retries:0 Time 0:00:02\n",
      "[=========================] 100.00% Tasks retries:0 Time 0:00:01\n"
     ]
    }
   ],
   "source": [
    "# A slightly different syntax for filtering that I find convenient...\n",
    "# Sometimes dropping data_lines is necessary to do a filter. \n",
    "# In these situations, make sure you're done extracting features from the original json...\n",
    "def filter_patid_nones(row):\n",
    "\treturn row['PATID'] is not None \n",
    "\n",
    "def filter_visid_nones(row):\n",
    "\treturn row['VISID'] is not None \n",
    "\n",
    "# Filter out any rows without patid or visid...\n",
    "tutorial_inpat_model.drop_columns('data_lines')\n",
    "tutorial_inpat_model.filter(filter_patid_nones)\n",
    "tutorial_inpat_model.filter(filter_visid_nones)"
   ]
  },
  {
   "cell_type": "markdown",
   "metadata": {
    "collapsed": true
   },
   "source": [
    "# Let's D.A."
   ]
  },
  {
   "cell_type": "code",
   "execution_count": 8,
   "metadata": {
    "collapsed": false
   },
   "outputs": [
    {
     "name": "stdout",
     "output_type": "stream",
     "text": [
      "[=========================] 100.00% Tasks retries:0 Time 0:00:02\n",
      "[=========================] 100.00% Tasks retries:0 Time 0:00:01\n",
      "[=========================] 100.00% Tasks retries:0 Time 0:00:02\n",
      "[=========================] 100.00% Tasks retries:0 Time 0:00:01\n"
     ]
    }
   ],
   "source": [
    "# Create a working copy...\n",
    "lts = tutorial_inpat_model.copy()\n",
    "\n",
    "# Flatten on the separating character...\n",
    "lts.flatten_column(\"MEDS\", \"|\")\n",
    "\n",
    "# We need to create a table ox ID x MED x Count...\n",
    "lts_lda_input = lts.group_by([\"VISID\", \"MEDS\"], ia.agg.count)\n",
    "if \"lts_lda_input_renamed\" in ia.get_frame_names():\n",
    "    ia.drop_frames(\"lts_lda_input_renamed\")\n",
    "lts_lda_input_renamed = lts_lda_input.copy(name = \"lts_lda_input_renamed\")"
   ]
  },
  {
   "cell_type": "code",
   "execution_count": 9,
   "metadata": {
    "collapsed": false
   },
   "outputs": [
    {
     "name": "stdout",
     "output_type": "stream",
     "text": [
      "[=========================] 100.00%  Time 0:00:00\n",
      "[=========================] 100.00% Tasks retries:0 Time 0:00:29\n",
      "[=========================] 100.00% Tasks retries:0 Time 0:00:01\n"
     ]
    }
   ],
   "source": [
    "# Set the parameters for the LDA model...\n",
    "nTopics = 20\n",
    "max_iterations = 2\n",
    "\n",
    "# Clean up any old attempts...\n",
    "ia.drop_models(['lts_lda_model'])\n",
    "\n",
    "# Create LDA model..\n",
    "lda_model =  ia.LdaModel(name='lts_lda_model')\n",
    "lts_lda_model = lda_model.train(lts_lda_input_renamed, \"VISID\", \"MEDS\", 'count', num_topics=nTopics, max_iterations=max_iterations)\n",
    "\n",
    "# We can extract the per-id topic distributions...\n",
    "doc_mixes = lts_lda_model['topics_given_doc']"
   ]
  },
  {
   "cell_type": "code",
   "execution_count": 10,
   "metadata": {
    "collapsed": false
   },
   "outputs": [
    {
     "name": "stdout",
     "output_type": "stream",
     "text": [
      "[=========================] 100.00% Tasks retries:0 Time 0:00:07\n",
      "[=========================] 100.00% Tasks retries:0 Time 0:00:09\n",
      "[=========================] 100.00% Tasks retries:0 Time 0:00:07\n"
     ]
    }
   ],
   "source": [
    "# Clean up old approaches...\n",
    "ia.drop_frames(['lts_lda_feature_frame'])\n",
    "\n",
    "# Copy the document x topic frame...\n",
    "lts_lda_feature_frame = doc_mixes.copy(name='lts_lda_feature_frame')\n",
    "\n",
    "# Create schema...\n",
    "schema = map(lambda i: ('topic' + \"_\" + str(i), ia.float64), range(1, nTopics + 1))\n",
    "\n",
    "# Create features frame...\n",
    "lts_lda_feature_frame.add_columns(lambda row: (row['topic_probabilities']), schema)\n",
    "lts_lda_feature_frame.drop_columns(['topic_probabilities'])"
   ]
  },
  {
   "cell_type": "code",
   "execution_count": 11,
   "metadata": {
    "collapsed": false
   },
   "outputs": [
    {
     "data": {
      "text/plain": [
       "[#]  VISID                 topic_1          topic_2          topic_3        \n",
       "============================================================================\n",
       "[0]  2d20146e46b49113d8c4  0.0518867115579  0.0502012089177  0.0475826049922\n",
       "[1]  a88385757a83291e3974  0.0396291039776  0.0525130658564  0.0531770224448\n",
       "[2]  b678e7336d72b8a58a8a  0.0502662958234  0.0507292049632   0.053816575841\n",
       "[3]  068b3407012a9979ede3  0.0577279357939  0.0483479515598  0.0501342261662\n",
       "[4]  7762e3ec6f2e76f7f7d0  0.0517545402405   0.054361824517  0.0484596102192\n",
       "[5]  793b67d856c04409aab3  0.0464585811944  0.0491275913986  0.0470441404138\n",
       "[6]  69c494556e28fffbadd9   0.056830934914  0.0532470074252  0.0501999235105\n",
       "[7]  a53eed59a08255003a78  0.0532694252019  0.0487647319719  0.0458092453288\n",
       "[8]  4e47c1cb427701cad79a   0.067189908422  0.0461926255776  0.0538418901593\n",
       "[9]  89b44a87a94b82c448a6  0.0611161393671  0.0493166563365  0.0414604653475\n",
       "\n",
       "[#]  topic_4          topic_5          topic_6          topic_7        \n",
       "=======================================================================\n",
       "[0]  0.0472649748133  0.0490310397615  0.0577452872844  0.0545182204427\n",
       "[1]  0.0443189439401  0.0473667761572  0.0422550110656   0.045313860207\n",
       "[2]  0.0549804355769  0.0442675871121   0.046233217325  0.0574229462335\n",
       "[3]  0.0389160489803  0.0499411504518  0.0528037177153  0.0524205180315\n",
       "[4]  0.0496879716979  0.0489157150605  0.0525740985931  0.0422310823853\n",
       "[5]  0.0498252072559  0.0573726561476  0.0526352627947  0.0559918276368\n",
       "[6]  0.0516778158617   0.047826750672  0.0492391656236  0.0504150163027\n",
       "[7]  0.0502618592046  0.0519794262705  0.0598556224581  0.0498562869532\n",
       "[8]  0.0321982225956   0.053262788857  0.0545020350776  0.0412824929818\n",
       "[9]  0.0447614543277  0.0463138566285  0.0408077747447  0.0425316546491\n",
       "\n",
       "[#]  topic_8          topic_9          topic_10         topic_11       \n",
       "=======================================================================\n",
       "[0]  0.0432587708976  0.0608289597674  0.0470977516362   0.043864926861\n",
       "[1]  0.0527968528963  0.0550120990486  0.0491115644708  0.0399909690452\n",
       "[2]  0.0554701322225  0.0516537274965  0.0520934713184  0.0347482816438\n",
       "[3]  0.0487085220821  0.0503289225453  0.0494152265483  0.0528881323651\n",
       "[4]  0.0626572102962  0.0512465233968  0.0553233377391  0.0453503496248\n",
       "[5]  0.0647265930206  0.0540062253179  0.0428817155064  0.0465799096821\n",
       "[6]  0.0500108352782  0.0385036956738  0.0495670343564  0.0475645278449\n",
       "[7]  0.0490143043412  0.0464574180448  0.0482043973471  0.0631055442514\n",
       "[8]  0.0498810142635  0.0524538415951  0.0523258619427  0.0467854968992\n",
       "[9]  0.0562639148802  0.0476715975693  0.0506120031422  0.0612966292308\n",
       "\n",
       "[#]  topic_12         topic_13         topic_14         topic_15       \n",
       "=======================================================================\n",
       "[0]  0.0532620193072  0.0622848917746  0.0458354024681  0.0524777618264\n",
       "[1]  0.0570900250228  0.0515844790854  0.0556102556995  0.0487242613982\n",
       "[2]  0.0504482844629  0.0594154428859  0.0533166736467  0.0515162513512\n",
       "[3]  0.0482315641836  0.0506427157572  0.0477956480503   0.054523680797\n",
       "[4]  0.0397455783598  0.0529206077922  0.0543253897664  0.0564978870653\n",
       "[5]  0.0440472263674  0.0599324935385  0.0508592116026  0.0456210983293\n",
       "[6]  0.0535755304828  0.0489907949685  0.0482757110814  0.0496061282279\n",
       "[7]  0.0409740479863  0.0526020487832   0.053818065167  0.0394133735801\n",
       "[8]  0.0432932120403  0.0588317788726  0.0520227135359  0.0638335862126\n",
       "[9]  0.0550366045217   0.040124663845  0.0575765197241  0.0344287627407\n",
       "\n",
       "[#]  topic_16         topic_17         topic_18         topic_19       \n",
       "=======================================================================\n",
       "[0]  0.0433007524152  0.0456178077535  0.0418743943345  0.0485713688553\n",
       "[1]  0.0477892469929  0.0489349009906  0.0567701288598  0.0555303847091\n",
       "[2]  0.0354314586302  0.0400970160139  0.0504830594004  0.0418984368852\n",
       "[3]  0.0473114133274  0.0521270482135  0.0452142700081  0.0567845608228\n",
       "[4]  0.0437411306699  0.0442107633604  0.0458843042242  0.0541782860148\n",
       "[5]  0.0420132552129  0.0405028498467  0.0523369677889  0.0536078361384\n",
       "[6]  0.0473064205075  0.0597820960416  0.0637942283287  0.0467021361562\n",
       "[7]  0.0543730666424  0.0464312817048   0.047702792494  0.0503180377044\n",
       "[8]  0.0466664526795  0.0377331328868   0.051724690244  0.0450842995882\n",
       "[9]  0.0506832688475  0.0581556671872  0.0524192740997  0.0579567230033\n",
       "\n",
       "[#]  topic_20       \n",
       "====================\n",
       "[0]  0.0534951443334\n",
       "[1]  0.0564810481319\n",
       "[2]  0.0657115011672\n",
       "[3]  0.0457367466006\n",
       "[4]  0.0459337889766\n",
       "[5]  0.0444293508064\n",
       "[6]  0.0368842467424\n",
       "[7]  0.0477890245645\n",
       "[8]  0.0508939555689\n",
       "[9]  0.0514663698071"
      ]
     },
     "execution_count": 11,
     "metadata": {},
     "output_type": "execute_result"
    }
   ],
   "source": [
    "lts_lda_feature_frame.inspect()"
   ]
  },
  {
   "cell_type": "code",
   "execution_count": 12,
   "metadata": {
    "collapsed": false
   },
   "outputs": [
    {
     "name": "stdout",
     "output_type": "stream",
     "text": [
      "[=========================] 100.00% Tasks retries:0 Time 0:00:10\n"
     ]
    }
   ],
   "source": [
    "tutorial_inpat_model_lda = tutorial_inpat_model.join(lts_lda_feature_frame, 'VISID')"
   ]
  },
  {
   "cell_type": "code",
   "execution_count": 13,
   "metadata": {
    "collapsed": false
   },
   "outputs": [
    {
     "data": {
      "text/plain": [
       "[#]  PATID                 VISID               \n",
       "===============================================\n",
       "[0]  86b314f2b8f649e09a25  bd62406626bdb419eb3c\n",
       "[1]  c3ee6c31222a5c0004ce  7f6aee844984b9437bcb\n",
       "[2]  1d9af07a834caa2cc3ab  49d6b4f4a2bdf68f8c62\n",
       "[3]  818ddca22852f6f94f69  960262597b8a2dd19bae\n",
       "[4]  04c4bf916059aea7340f  5590a4f169574de5b93a\n",
       "[5]  1b40b5b4555e7675d578  df4b8e284086b26064ac\n",
       "[6]  0a3a992c3a2287d9470f  4b202d09bf4bddc995d1\n",
       "[7]  12b37095664c01df2454  66d27aba05a171b606a9\n",
       "[8]  e05e07d93bdaae395d36  0401b8c91ae336b4a9b6\n",
       "[9]  899c3ec20a4ac7bf00ab  f83959fecf8087e5a150\n",
       "\n",
       "[#]  EVENT_ID                                  HEIGHT_INCHES  MARITAL_STATUS\n",
       "============================================================================\n",
       "[0]  86b314f2b8f649e09a25bd62406626bdb419eb3c  72.0078735352  W\n",
       "[1]  c3ee6c31222a5c0004ce7f6aee844984b9437bcb  57.9921264648  S\n",
       "[2]  1d9af07a834caa2cc3ab49d6b4f4a2bdf68f8c62  70.9842529297  M\n",
       "[3]  818ddca22852f6f94f69960262597b8a2dd19bae  64.0157470703  M\n",
       "[4]  04c4bf916059aea7340f5590a4f169574de5b93a  67.0078735352  M\n",
       "[5]  1b40b5b4555e7675d578df4b8e284086b26064ac  59.9999961853  M\n",
       "[6]  0a3a992c3a2287d9470f4b202d09bf4bddc995d1           70.0  S\n",
       "[7]  12b37095664c01df245466d27aba05a171b606a9  70.9842529297  M\n",
       "[8]  e05e07d93bdaae395d360401b8c91ae336b4a9b6  57.0078735352  M\n",
       "[9]  899c3ec20a4ac7bf00abf83959fecf8087e5a150  67.0078735352  S\n",
       "\n",
       "[#]  WEIGHT_LBS     DEATH_FLAG  AGE \n",
       "====================================\n",
       "[0]  163.999664307  0.0         60.0\n",
       "[1]  95.1250534058  0.0         52.0\n",
       "[2]  186.063537598  0.0         61.0\n",
       "[3]  136.999664307  0.0         64.0\n",
       "[4]  160.062210083  0.0         70.0\n",
       "[5]  177.692581177  0.0         33.0\n",
       "[6]  202.999450684  0.0         67.0\n",
       "[7]  214.999206543  0.0         52.0\n",
       "[8]  118.061950684  0.0         77.0\n",
       "[9]  377.063232422  0.0         36.0\n",
       "\n",
       "[#]  MEDS                                                                       \n",
       "================================================================================\n",
       "[0]  ondansetron intraVENOUS push -|sodium chloride 0.9% -|HYDROmorphone injection -|magnesium sulfate IVPB 4 Gram/SWFI -|HYDROmorphone -|DULoxetine -|sucralfate oral liquid -|senna concentrate -|oxyCODONE ER -|ranitidine -|nystatin oral liquid -|LORazepam -|acetaminophen -|potassium chloride ER -|gabapentin -|docusate sodium -|lansoprazole DR -|multivitamin -|influenza vaccine injection -|enoxaparin injection_|pantoprazole 40 mg oral delayed release tablet|magnesium sulfate IVPB 2 Gram/SWFI 50mL-|nystatin 100,000 units/mL oral suspension\n",
       "[1]  enoxaparin injection_|ondansetron intraVENOUS push -|nicotine 14 mg-24 hour topical -|docusate oral liquid -|oxyCODONE -|ferrous sulfate -|senna concentrate -|mirtazapine -|codeine-guaifenesin oral liquid -|potassium chloride IVPB -|calcium carbonate-vitamin D --|magnesium oxide tablet -|folic acid -|potassium phosphate neutral -|potassium chloride ER -|magnesium sulfate IVPB 4 Gram/SWFI -|calcium gluconate IVPB -|potassium chloride liquid -|potassium-sodium phosphate powder for solution|calcium carbonate chewable -|loratadine -|albuterol-ipratropium inhaler w/adapter-|albuterol 2.5 mg/0.5 mL soln (no saline)|ipratropium nebulizer solution -|cyclobenzaprine -|mirtazapine 15 mg oral tablet|Promethazine VC with Codeine 10 mg-5 mg-6.25 mg/5 mL oral syrup|nicotine 14 mg/24 hr transdermal film, extended release|ibuprofen 600 mg oral tablet|potassium phosphate IVPB -|acetaminophen -|calcium carbonate -|levoFLOXacin -|vaNCoMYCin IVPB -|diatrizoate meglumine oral solution -\n",
       "[2]  cefepime IVPB_|midazolam injection -|pharmacy med reconciliation consult -|nadolol -|lactulose liquid -|ursodiol -|octreotide injection -|pantoprazole infusion -|Lasix 40 mg oral tablet|diphenhydrAMINE injection -|rifaXIMIN.|multivitamin B complex with C -|octreotide infusion -|fentanyl 8 mg in 250 mL 0.9% NACL -|calcium carbonate-vitamin D --|fish oil -|acetaminophen -|fluid challenge lactated ringers -|fentanyl bolus dose|fentanyl infusion bolus-|traMADol -|pantoprazole IVPB -|heparin injection -|furosemide -|spironolactone -|lansoprazole DR -|eplerenone -|potassium chloride ER -|oxyCODONE -|furosemide injection -|carvedilol -|Cipro 500 mg oral tablet|oxyCODONE 5 mg oral tablet|cefpodoxime 200 mg oral tablet|acetaminophen 325 mg oral tablet|albumin 25% IVPB -|Coreg 3.125 mg oral tablet|traMADol 50 mg oral tablet|carvedilol 6.25 mg oral tablet|eplerenone 50 mg oral tablet|Pharmacy Med Reconciliation Consult for DC|furosemide 40 mg oral tablet|PANTOPRAZOLE IVPB HUP AND PPMC ONLY|CEFTRIAXONE 1 G (READY-TO-USE) IN NS IVPB|PANTOPRAZOLE INFUSION\n",
       "[3]  heparin injection -|lactated ringers -|ondansetron intraVENOUS push -|Pantoprazole - IV Push|morphine PCA (1 mg/mL)_|fentanyl injection. -|HYDROmorphone injection. -|morphine injection..-|metoclopramide injection -|clindamycin IVPB -|pantoprazole -|ALPRAZolam -|HYDROmorphone injection -|HYDROmorphone -|docusate sodium-senna tablet -|acetaminophen -|ketorolac injection_|rosuvastatin -|potassium phosphate-sod phosph neutral -|(ADM OVERRIDE)|SODIUM CHLORIDE 0.9 % IRRIGATION SOLN|Crestor 5 mg oral tablet|BUPIVACAINE HCL 0.5 % INJECTION SOLN\n",
       "[4]  hydrochlorothiazide tablet -|pantoprazole -|levothyroxine -|aspirin chewable -|metoprolol TARTRATE -|warfarin -|glycopyrrolate -|senna concentrate -|rosuvastatin -|temazepam -|diltiazem infusion -|heparin infusion 25000 Units/D5W 250 mL-|potassium chloride ER -|ASPIRIN 81 MG PO CHEW|glycopyrrolate 1 mg oral tablet|famotidine 40 mg oral tablet|zolpidem 10 mg oral tablet|acetaminophen -|LORAZEPAM 2 MG/ML INJECTION SOLN|warfarin 2.5 mg oral tablet|metoprolol 25 mg oral tablet|glycopyrrolate 2 mg oral tablet|(ADM OVERRIDE)\n",
       "[5]  fentanyl injection -|LORazepam injection -|labetalol injection -|fentanyl 8 mg in 250 mL 0.9% NACL -|propofol infusion 1,000 mg/100 mL -|mycophenolate oral liquid -|calcitriol oral liquid -|cholecalciferol -|labetalol infusion 1000 mg in 200 mL -|sulfamethoxazole-trimethoprim liquid -|famotidine IVPB-|citric acid-sodium citrate oral liquid -|LevETIRAcetam IVPB -|methylPREDNISolone sod succinate IVPB|heparin injection -|niCARDipine 20mg in 200 mls isotonic diluent|predniSONE -|lansoprazole disintegrating -|magnesium sulfate IVPB 4 Gram/SWFI -|sevelamer -|dextrose 5% in water -|LevETIRAcetam oral liquid -|pravastatin 10 mg oral tablet|sodium bicarbonate -|Bactrim 400 mg-80 mg oral tablet|mycophenolate mofetil 250 mg oral capsule|sodium bicarbonate 650 mg oral tablet|NIFEdipine ER -|cholecalciferol 1000 intl units oral capsule|hydrALAZINE 50 mg oral tablet|labetalol 300 mg oral tablet\n",
       "[6]  acetaminophen -|aspirin chewable -|losartan -|amiodarone -|atorvastatin -|furosemide injection -|heparin injection -|carvedilol -|senna concentrate -|Coreg 25 mg oral tablet|amiodarone 200 mg oral tablet|Lasix 40 mg oral tablet|atorvastatin 80 mg oral tablet|losartan 50 mg oral tablet|(ADM OVERRIDE)\n",
       "[7]  ondansetron intraVENOUS push.|acetaminophen -|sodium chloride 0.9% -|morphine PCA (1 mg/mL) -|ceFAZolin IVPB-|senna concentrate -|docusate sodium -|heparin injection -|oxyCODONE-acetaminophen 5 mg-325 mg -|lansoprazole DR -|benzocaine-menthol lozenge -|Al hydroxid/Mg hydroxide/simeth liquid -|BACITRACIN 50000 UNITS IM SOLR|LIDOCAINE-EPINEPHRINE 1 %-1:100000 INJECTION SOLN|THROMBIN 5000 UNITS EX KIT\n",
       "[8]  sodium chloride 0.9% -|lactulose liquid -|oxyCODONE ER -|enoxaparin injection_|oxyCODONE oral liquid -|mirtazapine -|Weekly labs- CBC, BMP- Please fax results to Dr. Aggarwal at 215-349-5326|docusate sodium 100 mg oral capsule\n",
       "[9]  heparin injection --|fentanyl injection. -|HYDROmorphone injection. -|meperidine injection. -|ondansetron intraVENOUS push.|proMETHazine injection_|lactated ringers -|morphine PCA (1 mg/mL) -|ondansetron intraVENOUS push -|ketorolac injection -|famotidine IVPB-|fluticasone-salmeterol 250 mcg/50 mcg -|ceFAZolin IVPB-|benzocaine-menthol lozenge -|BUPIVACAINE HCL (PF) 0.5 % INJECTION SOLN\n",
       "\n",
       "[#]  ADM_DATE    DISCHARGE_DATE  VISID_R               topic_1        \n",
       "======================================================================\n",
       "[0]  1557512280  1557828180      bd62406626bdb419eb3c  0.0427182583526\n",
       "[1]  1557766800  1558266000      7f6aee844984b9437bcb  0.0549773688072\n",
       "[2]  1558113600  1558613580      49d6b4f4a2bdf68f8c62  0.0526078562012\n",
       "[3]  1557813180  1558035840      960262597b8a2dd19bae  0.0411333059521\n",
       "[4]  1557835500  1558025040      5590a4f169574de5b93a  0.0494912856016\n",
       "[5]  1557836460  1558869000      df4b8e284086b26064ac   0.041900314297\n",
       "[6]  1557829740  1558186260      4b202d09bf4bddc995d1  0.0503193255079\n",
       "[7]  1557833280  1558016280      66d27aba05a171b606a9  0.0488043803995\n",
       "[8]  1557944400  1559234040      0401b8c91ae336b4a9b6  0.0369055717945\n",
       "[9]  1557904680  1558108740      f83959fecf8087e5a150  0.0428395639852\n",
       "\n",
       "[#]  topic_2          topic_3          topic_4          topic_5        \n",
       "=======================================================================\n",
       "[0]  0.0492335268656  0.0555792961456   0.050824114718  0.0520565113202\n",
       "[1]  0.0557333130926  0.0420317260671  0.0465166696078   0.044506206928\n",
       "[2]  0.0549194261528  0.0527158501548  0.0466792765903  0.0481851873218\n",
       "[3]  0.0433381695386  0.0449403531787  0.0504997045794  0.0349581269163\n",
       "[4]  0.0455998027581  0.0443004302797  0.0498963283097  0.0521770461159\n",
       "[5]  0.0475070059629  0.0559953936229  0.0557931331348  0.0544990612929\n",
       "[6]  0.0503784641651  0.0520353609861  0.0593681375923  0.0489097498398\n",
       "[7]  0.0459966146635  0.0438725844544  0.0374487977259  0.0559324834029\n",
       "[8]  0.0429247315716  0.0486110646899  0.0426984361353  0.0352851259553\n",
       "[9]  0.0640260587479  0.0611227285309    0.04632137939  0.0458211851017\n",
       "\n",
       "[#]  topic_6          topic_7          topic_8          topic_9        \n",
       "=======================================================================\n",
       "[0]  0.0496645427768  0.0490014210162  0.0422782408473  0.0424773505011\n",
       "[1]  0.0568781974125  0.0510576167961  0.0562408959959  0.0479563262347\n",
       "[2]   0.049122063901  0.0462445607938  0.0549914177163  0.0606413708411\n",
       "[3]  0.0506628640954  0.0533640500374  0.0548281792586  0.0419614314415\n",
       "[4]  0.0495245915362  0.0474824837074  0.0506152013049  0.0506758051264\n",
       "[5]    0.04592892357  0.0551238164167   0.052044283194  0.0446704700734\n",
       "[6]  0.0463945564073   0.054167786029  0.0389988337508  0.0497569782425\n",
       "[7]  0.0546836393243  0.0513432157658  0.0569124701005   0.039762097293\n",
       "[8]  0.0486732019514  0.0721262273725  0.0398548717596  0.0636087187953\n",
       "[9]  0.0442636742783   0.057502142788  0.0511461163782  0.0484662978704\n",
       "\n",
       "[#]  topic_10         topic_11         topic_12         topic_13       \n",
       "=======================================================================\n",
       "[0]   0.051435480214  0.0506942219983  0.0510571398511  0.0515881471654\n",
       "[1]  0.0572510335592  0.0506072064493  0.0471055424937  0.0509371341256\n",
       "[2]  0.0548905618989   0.039201790844  0.0455618695347  0.0443496398288\n",
       "[3]  0.0533488009453   0.058898976529   0.056334051913  0.0468040822643\n",
       "[4]  0.0483760439523  0.0560512451265  0.0488007384384  0.0561870838147\n",
       "[5]   0.046801966391  0.0452725604277  0.0671078893547  0.0541886556498\n",
       "[6]  0.0472880079195   0.044655893947  0.0529968452641  0.0452528596387\n",
       "[7]   0.055170792821  0.0398845900568  0.0465237651646  0.0486096662184\n",
       "[8]  0.0637683341477  0.0460067478455  0.0348067917178  0.0571537407542\n",
       "[9]  0.0423519080261  0.0597679651467  0.0385296502567  0.0475709385592\n",
       "\n",
       "[#]  topic_14         topic_15         topic_16         topic_17       \n",
       "=======================================================================\n",
       "[0]  0.0488012470084  0.0528525367902  0.0485994081154  0.0518618323412\n",
       "[1]  0.0435707724852  0.0517671209512  0.0531391386255  0.0507171853331\n",
       "[2]  0.0515837171796    0.05532908721  0.0474462994995  0.0502498175678\n",
       "[3]  0.0559575497366  0.0441168025292  0.0605565609517  0.0530805725428\n",
       "[4]  0.0559096190965  0.0478956348872  0.0500091391059  0.0576550222341\n",
       "[5]  0.0537986036506  0.0634099012101    0.04798782221  0.0434388269291\n",
       "[6]  0.0554648476199  0.0514440464211  0.0542327507502  0.0479532281901\n",
       "[7]  0.0597266548589   0.054580178238  0.0537233543851  0.0526854836249\n",
       "[8]  0.0437752918994  0.0560448491043  0.0423258908428  0.0645319019404\n",
       "[9]  0.0520114236503  0.0467327946814  0.0395480714034  0.0503398124257\n",
       "\n",
       "[#]  topic_18         topic_19         topic_20       \n",
       "======================================================\n",
       "[0]  0.0456517431593  0.0527140097828  0.0609109710304\n",
       "[1]  0.0480429258384   0.046270990574  0.0446926286228\n",
       "[2]  0.0464650595857  0.0469885486396  0.0518265985383\n",
       "[3]  0.0483885189992  0.0536150623334  0.0532128362573\n",
       "[4]  0.0456170301231  0.0549673826337  0.0387680858476\n",
       "[5]  0.0443494116407   0.045812326543  0.0343696344287\n",
       "[6]  0.0444549743367  0.0486745685849   0.057252784807\n",
       "[7]    0.04711372315  0.0513350330209  0.0558904753316\n",
       "[8]  0.0584569529733  0.0559828625692    0.04645868618\n",
       "[9]  0.0560655485203  0.0503892247662  0.0551835154935"
      ]
     },
     "execution_count": 13,
     "metadata": {},
     "output_type": "execute_result"
    }
   ],
   "source": [
    "tutorial_inpat_model_lda.inspect(columns=[i for i in tutorial_inpat_model_lda.column_names if i != 'data_lines'])"
   ]
  },
  {
   "cell_type": "markdown",
   "metadata": {},
   "source": [
    "# Get gold-standard labels..."
   ]
  },
  {
   "cell_type": "code",
   "execution_count": 14,
   "metadata": {
    "collapsed": false
   },
   "outputs": [
    {
     "name": "stdout",
     "output_type": "stream",
     "text": [
      "[=========================] 100.00% Tasks retries:0 Time 0:00:09\n"
     ]
    }
   ],
   "source": [
    "def get_gold_standard(row):\n",
    "    \"\"\"\n",
    "    Function to compute nDays between discharge and admit.\n",
    "    Returns GS label.\n",
    "    \"\"\"\n",
    "    t2 = row[\"ADM_DATE\"]\n",
    "    t1 = row[\"DISCHARGE_DATE\"]\n",
    "    t1 = datetime.datetime.fromtimestamp(float(t1))\n",
    "    t2 = datetime.datetime.fromtimestamp(float(t2))\n",
    "    td = t2 - t1\n",
    "    td_days = int(divmod(td.days, 60)[-1])\n",
    "    if td_days <= 30:\n",
    "        RF30 = \"POSITIVE\"\n",
    "    else:\n",
    "        RF30 = \"NEGATIVE\"\n",
    "    return RF30\n",
    "\n",
    "tutorial_inpat_model_lda.add_columns(get_gold_standard, (\"RF30\", str))"
   ]
  },
  {
   "cell_type": "code",
   "execution_count": 15,
   "metadata": {
    "collapsed": false
   },
   "outputs": [
    {
     "data": {
      "text/plain": [
       "[#]  ADM_DATE    DISCHARGE_DATE  RF30    \n",
       "=========================================\n",
       "[0]  1557512280  1557828180      NEGATIVE\n",
       "[1]  1557766800  1558266000      NEGATIVE\n",
       "[2]  1558113600  1558613580      NEGATIVE\n",
       "[3]  1557813180  1558035840      NEGATIVE\n",
       "[4]  1557835500  1558025040      NEGATIVE\n",
       "[5]  1557836460  1558869000      NEGATIVE\n",
       "[6]  1557829740  1558186260      NEGATIVE\n",
       "[7]  1557833280  1558016280      NEGATIVE\n",
       "[8]  1557944400  1559234040      NEGATIVE\n",
       "[9]  1557904680  1558108740      NEGATIVE"
      ]
     },
     "execution_count": 15,
     "metadata": {},
     "output_type": "execute_result"
    }
   ],
   "source": [
    "tutorial_inpat_model_lda.inspect(n=10, columns=[i for i in tutorial_inpat_model_lda.column_names if i in ['ADM_DATE', 'DISCHARGE_DATE', \"RF30\", \"RF90\"]])"
   ]
  },
  {
   "cell_type": "code",
   "execution_count": 16,
   "metadata": {
    "collapsed": false
   },
   "outputs": [
    {
     "name": "stdout",
     "output_type": "stream",
     "text": [
      "[=========================] 100.00% Tasks retries:0 Time 0:00:02\n"
     ]
    }
   ],
   "source": [
    "rf30_count = tutorial_inpat_model_lda.group_by('RF30', ia.agg.count)"
   ]
  },
  {
   "cell_type": "code",
   "execution_count": 17,
   "metadata": {
    "collapsed": false
   },
   "outputs": [
    {
     "data": {
      "text/plain": [
       "[#]  RF30      count\n",
       "====================\n",
       "[0]  NEGATIVE   1500\n",
       "[1]  POSITIVE     18"
      ]
     },
     "execution_count": 17,
     "metadata": {},
     "output_type": "execute_result"
    }
   ],
   "source": [
    "rf30_count.inspect()"
   ]
  },
  {
   "cell_type": "markdown",
   "metadata": {},
   "source": [
    "## Demo: Preparing a column for a classifier/algorithm--feature encoding train/test!"
   ]
  },
  {
   "cell_type": "markdown",
   "metadata": {},
   "source": [
    "#### Demo: Encoding features"
   ]
  },
  {
   "cell_type": "code",
   "execution_count": 18,
   "metadata": {
    "collapsed": false
   },
   "outputs": [
    {
     "data": {
      "text/plain": [
       "[#]  MARITAL_STATUS\n",
       "===================\n",
       "[0]  W\n",
       "[1]  S\n",
       "[2]  M\n",
       "[3]  M\n",
       "[4]  M\n",
       "[5]  M\n",
       "[6]  S\n",
       "[7]  M\n",
       "[8]  M\n",
       "[9]  S"
      ]
     },
     "execution_count": 18,
     "metadata": {},
     "output_type": "execute_result"
    }
   ],
   "source": [
    "# Let's demonstrate this with a non-numeric column, the MARITAL_STATUS feature...\n",
    "tutorial_inpat_model_lda.inspect(columns=\"MARITAL_STATUS\")"
   ]
  },
  {
   "cell_type": "code",
   "execution_count": 19,
   "metadata": {
    "collapsed": false
   },
   "outputs": [
    {
     "name": "stdout",
     "output_type": "stream",
     "text": [
      "[=========================] 100.00% Tasks retries:0 Time 0:00:02\n"
     ]
    }
   ],
   "source": [
    "# Let's generate a summary table of the possible values here...\n",
    "tutorial_inpat_model_lda_count = tutorial_inpat_model_lda.group_by(\"MARITAL_STATUS\", ia.agg.count)"
   ]
  },
  {
   "cell_type": "code",
   "execution_count": 20,
   "metadata": {
    "collapsed": false
   },
   "outputs": [
    {
     "data": {
      "text/plain": [
       "[#]  MARITAL_STATUS  count\n",
       "==========================\n",
       "[0]  S                 637\n",
       "[1]  M                 661\n",
       "[2]  X                   1\n",
       "[3]  A                  23\n",
       "[4]  W                  91\n",
       "[5]  D                 105"
      ]
     },
     "execution_count": 20,
     "metadata": {},
     "output_type": "execute_result"
    }
   ],
   "source": [
    "tutorial_inpat_model_lda_count.inspect()"
   ]
  },
  {
   "cell_type": "code",
   "execution_count": 21,
   "metadata": {
    "collapsed": false
   },
   "outputs": [
    {
     "name": "stdout",
     "output_type": "stream",
     "text": [
      "[=========================] 100.00% Tasks retries:0 Time 0:00:08\n"
     ]
    }
   ],
   "source": [
    "def numericalize_udf(in_val, dx):\n",
    "        try:\n",
    "            return_val = dx[in_val]\n",
    "        except:\n",
    "            return_val = 0\n",
    "        return return_val\n",
    "    \n",
    "# ia.drop_frames(\"numerical_test\")\n",
    "# numerical_test = tutorial_inpat.copy(name='numerical_test')\n",
    "# numerical_test_count = numerical_test.group_by('MARITAL_STATUS', ia.agg.count)\n",
    "\n",
    "for col in [\"MARITAL_STATUS\"]:\n",
    "    new_column_name = col + \"_INT\"\n",
    "    f = tutorial_inpat_model_lda.download()\n",
    "    d = f.to_dict()[col]\n",
    "    rev_dx = dict((v, k) for k, v in d.iteritems())\n",
    "    \n",
    "    tutorial_inpat_model_lda.add_columns(lambda row: numericalize_udf(row[col], rev_dx), (new_column_name, ia.int32))"
   ]
  },
  {
   "cell_type": "code",
   "execution_count": 22,
   "metadata": {
    "collapsed": false
   },
   "outputs": [
    {
     "data": {
      "text/plain": [
       "[#]  PATID                 VISID               \n",
       "===============================================\n",
       "[0]  86b314f2b8f649e09a25  bd62406626bdb419eb3c\n",
       "[1]  c3ee6c31222a5c0004ce  7f6aee844984b9437bcb\n",
       "[2]  1d9af07a834caa2cc3ab  49d6b4f4a2bdf68f8c62\n",
       "[3]  818ddca22852f6f94f69  960262597b8a2dd19bae\n",
       "[4]  04c4bf916059aea7340f  5590a4f169574de5b93a\n",
       "[5]  1b40b5b4555e7675d578  df4b8e284086b26064ac\n",
       "[6]  0a3a992c3a2287d9470f  4b202d09bf4bddc995d1\n",
       "[7]  12b37095664c01df2454  66d27aba05a171b606a9\n",
       "[8]  e05e07d93bdaae395d36  0401b8c91ae336b4a9b6\n",
       "[9]  899c3ec20a4ac7bf00ab  f83959fecf8087e5a150\n",
       "\n",
       "[#]  EVENT_ID                                  HEIGHT_INCHES  MARITAL_STATUS\n",
       "============================================================================\n",
       "[0]  86b314f2b8f649e09a25bd62406626bdb419eb3c  72.0078735352  W\n",
       "[1]  c3ee6c31222a5c0004ce7f6aee844984b9437bcb  57.9921264648  S\n",
       "[2]  1d9af07a834caa2cc3ab49d6b4f4a2bdf68f8c62  70.9842529297  M\n",
       "[3]  818ddca22852f6f94f69960262597b8a2dd19bae  64.0157470703  M\n",
       "[4]  04c4bf916059aea7340f5590a4f169574de5b93a  67.0078735352  M\n",
       "[5]  1b40b5b4555e7675d578df4b8e284086b26064ac  59.9999961853  M\n",
       "[6]  0a3a992c3a2287d9470f4b202d09bf4bddc995d1           70.0  S\n",
       "[7]  12b37095664c01df245466d27aba05a171b606a9  70.9842529297  M\n",
       "[8]  e05e07d93bdaae395d360401b8c91ae336b4a9b6  57.0078735352  M\n",
       "[9]  899c3ec20a4ac7bf00abf83959fecf8087e5a150  67.0078735352  S\n",
       "\n",
       "[#]  WEIGHT_LBS     DEATH_FLAG  AGE \n",
       "====================================\n",
       "[0]  163.999664307  0.0         60.0\n",
       "[1]  95.1250534058  0.0         52.0\n",
       "[2]  186.063537598  0.0         61.0\n",
       "[3]  136.999664307  0.0         64.0\n",
       "[4]  160.062210083  0.0         70.0\n",
       "[5]  177.692581177  0.0         33.0\n",
       "[6]  202.999450684  0.0         67.0\n",
       "[7]  214.999206543  0.0         52.0\n",
       "[8]  118.061950684  0.0         77.0\n",
       "[9]  377.063232422  0.0         36.0\n",
       "\n",
       "[#]  MEDS                                                                       \n",
       "================================================================================\n",
       "[0]  ondansetron intraVENOUS push -|sodium chloride 0.9% -|HYDROmorphone injection -|magnesium sulfate IVPB 4 Gram/SWFI -|HYDROmorphone -|DULoxetine -|sucralfate oral liquid -|senna concentrate -|oxyCODONE ER -|ranitidine -|nystatin oral liquid -|LORazepam -|acetaminophen -|potassium chloride ER -|gabapentin -|docusate sodium -|lansoprazole DR -|multivitamin -|influenza vaccine injection -|enoxaparin injection_|pantoprazole 40 mg oral delayed release tablet|magnesium sulfate IVPB 2 Gram/SWFI 50mL-|nystatin 100,000 units/mL oral suspension\n",
       "[1]  enoxaparin injection_|ondansetron intraVENOUS push -|nicotine 14 mg-24 hour topical -|docusate oral liquid -|oxyCODONE -|ferrous sulfate -|senna concentrate -|mirtazapine -|codeine-guaifenesin oral liquid -|potassium chloride IVPB -|calcium carbonate-vitamin D --|magnesium oxide tablet -|folic acid -|potassium phosphate neutral -|potassium chloride ER -|magnesium sulfate IVPB 4 Gram/SWFI -|calcium gluconate IVPB -|potassium chloride liquid -|potassium-sodium phosphate powder for solution|calcium carbonate chewable -|loratadine -|albuterol-ipratropium inhaler w/adapter-|albuterol 2.5 mg/0.5 mL soln (no saline)|ipratropium nebulizer solution -|cyclobenzaprine -|mirtazapine 15 mg oral tablet|Promethazine VC with Codeine 10 mg-5 mg-6.25 mg/5 mL oral syrup|nicotine 14 mg/24 hr transdermal film, extended release|ibuprofen 600 mg oral tablet|potassium phosphate IVPB -|acetaminophen -|calcium carbonate -|levoFLOXacin -|vaNCoMYCin IVPB -|diatrizoate meglumine oral solution -\n",
       "[2]  cefepime IVPB_|midazolam injection -|pharmacy med reconciliation consult -|nadolol -|lactulose liquid -|ursodiol -|octreotide injection -|pantoprazole infusion -|Lasix 40 mg oral tablet|diphenhydrAMINE injection -|rifaXIMIN.|multivitamin B complex with C -|octreotide infusion -|fentanyl 8 mg in 250 mL 0.9% NACL -|calcium carbonate-vitamin D --|fish oil -|acetaminophen -|fluid challenge lactated ringers -|fentanyl bolus dose|fentanyl infusion bolus-|traMADol -|pantoprazole IVPB -|heparin injection -|furosemide -|spironolactone -|lansoprazole DR -|eplerenone -|potassium chloride ER -|oxyCODONE -|furosemide injection -|carvedilol -|Cipro 500 mg oral tablet|oxyCODONE 5 mg oral tablet|cefpodoxime 200 mg oral tablet|acetaminophen 325 mg oral tablet|albumin 25% IVPB -|Coreg 3.125 mg oral tablet|traMADol 50 mg oral tablet|carvedilol 6.25 mg oral tablet|eplerenone 50 mg oral tablet|Pharmacy Med Reconciliation Consult for DC|furosemide 40 mg oral tablet|PANTOPRAZOLE IVPB HUP AND PPMC ONLY|CEFTRIAXONE 1 G (READY-TO-USE) IN NS IVPB|PANTOPRAZOLE INFUSION\n",
       "[3]  heparin injection -|lactated ringers -|ondansetron intraVENOUS push -|Pantoprazole - IV Push|morphine PCA (1 mg/mL)_|fentanyl injection. -|HYDROmorphone injection. -|morphine injection..-|metoclopramide injection -|clindamycin IVPB -|pantoprazole -|ALPRAZolam -|HYDROmorphone injection -|HYDROmorphone -|docusate sodium-senna tablet -|acetaminophen -|ketorolac injection_|rosuvastatin -|potassium phosphate-sod phosph neutral -|(ADM OVERRIDE)|SODIUM CHLORIDE 0.9 % IRRIGATION SOLN|Crestor 5 mg oral tablet|BUPIVACAINE HCL 0.5 % INJECTION SOLN\n",
       "[4]  hydrochlorothiazide tablet -|pantoprazole -|levothyroxine -|aspirin chewable -|metoprolol TARTRATE -|warfarin -|glycopyrrolate -|senna concentrate -|rosuvastatin -|temazepam -|diltiazem infusion -|heparin infusion 25000 Units/D5W 250 mL-|potassium chloride ER -|ASPIRIN 81 MG PO CHEW|glycopyrrolate 1 mg oral tablet|famotidine 40 mg oral tablet|zolpidem 10 mg oral tablet|acetaminophen -|LORAZEPAM 2 MG/ML INJECTION SOLN|warfarin 2.5 mg oral tablet|metoprolol 25 mg oral tablet|glycopyrrolate 2 mg oral tablet|(ADM OVERRIDE)\n",
       "[5]  fentanyl injection -|LORazepam injection -|labetalol injection -|fentanyl 8 mg in 250 mL 0.9% NACL -|propofol infusion 1,000 mg/100 mL -|mycophenolate oral liquid -|calcitriol oral liquid -|cholecalciferol -|labetalol infusion 1000 mg in 200 mL -|sulfamethoxazole-trimethoprim liquid -|famotidine IVPB-|citric acid-sodium citrate oral liquid -|LevETIRAcetam IVPB -|methylPREDNISolone sod succinate IVPB|heparin injection -|niCARDipine 20mg in 200 mls isotonic diluent|predniSONE -|lansoprazole disintegrating -|magnesium sulfate IVPB 4 Gram/SWFI -|sevelamer -|dextrose 5% in water -|LevETIRAcetam oral liquid -|pravastatin 10 mg oral tablet|sodium bicarbonate -|Bactrim 400 mg-80 mg oral tablet|mycophenolate mofetil 250 mg oral capsule|sodium bicarbonate 650 mg oral tablet|NIFEdipine ER -|cholecalciferol 1000 intl units oral capsule|hydrALAZINE 50 mg oral tablet|labetalol 300 mg oral tablet\n",
       "[6]  acetaminophen -|aspirin chewable -|losartan -|amiodarone -|atorvastatin -|furosemide injection -|heparin injection -|carvedilol -|senna concentrate -|Coreg 25 mg oral tablet|amiodarone 200 mg oral tablet|Lasix 40 mg oral tablet|atorvastatin 80 mg oral tablet|losartan 50 mg oral tablet|(ADM OVERRIDE)\n",
       "[7]  ondansetron intraVENOUS push.|acetaminophen -|sodium chloride 0.9% -|morphine PCA (1 mg/mL) -|ceFAZolin IVPB-|senna concentrate -|docusate sodium -|heparin injection -|oxyCODONE-acetaminophen 5 mg-325 mg -|lansoprazole DR -|benzocaine-menthol lozenge -|Al hydroxid/Mg hydroxide/simeth liquid -|BACITRACIN 50000 UNITS IM SOLR|LIDOCAINE-EPINEPHRINE 1 %-1:100000 INJECTION SOLN|THROMBIN 5000 UNITS EX KIT\n",
       "[8]  sodium chloride 0.9% -|lactulose liquid -|oxyCODONE ER -|enoxaparin injection_|oxyCODONE oral liquid -|mirtazapine -|Weekly labs- CBC, BMP- Please fax results to Dr. Aggarwal at 215-349-5326|docusate sodium 100 mg oral capsule\n",
       "[9]  heparin injection --|fentanyl injection. -|HYDROmorphone injection. -|meperidine injection. -|ondansetron intraVENOUS push.|proMETHazine injection_|lactated ringers -|morphine PCA (1 mg/mL) -|ondansetron intraVENOUS push -|ketorolac injection -|famotidine IVPB-|fluticasone-salmeterol 250 mcg/50 mcg -|ceFAZolin IVPB-|benzocaine-menthol lozenge -|BUPIVACAINE HCL (PF) 0.5 % INJECTION SOLN\n",
       "\n",
       "[#]  ADM_DATE    DISCHARGE_DATE  VISID_R               topic_1        \n",
       "======================================================================\n",
       "[0]  1557512280  1557828180      bd62406626bdb419eb3c  0.0427182583526\n",
       "[1]  1557766800  1558266000      7f6aee844984b9437bcb  0.0549773688072\n",
       "[2]  1558113600  1558613580      49d6b4f4a2bdf68f8c62  0.0526078562012\n",
       "[3]  1557813180  1558035840      960262597b8a2dd19bae  0.0411333059521\n",
       "[4]  1557835500  1558025040      5590a4f169574de5b93a  0.0494912856016\n",
       "[5]  1557836460  1558869000      df4b8e284086b26064ac   0.041900314297\n",
       "[6]  1557829740  1558186260      4b202d09bf4bddc995d1  0.0503193255079\n",
       "[7]  1557833280  1558016280      66d27aba05a171b606a9  0.0488043803995\n",
       "[8]  1557944400  1559234040      0401b8c91ae336b4a9b6  0.0369055717945\n",
       "[9]  1557904680  1558108740      f83959fecf8087e5a150  0.0428395639852\n",
       "\n",
       "[#]  topic_2          topic_3          topic_4          topic_5        \n",
       "=======================================================================\n",
       "[0]  0.0492335268656  0.0555792961456   0.050824114718  0.0520565113202\n",
       "[1]  0.0557333130926  0.0420317260671  0.0465166696078   0.044506206928\n",
       "[2]  0.0549194261528  0.0527158501548  0.0466792765903  0.0481851873218\n",
       "[3]  0.0433381695386  0.0449403531787  0.0504997045794  0.0349581269163\n",
       "[4]  0.0455998027581  0.0443004302797  0.0498963283097  0.0521770461159\n",
       "[5]  0.0475070059629  0.0559953936229  0.0557931331348  0.0544990612929\n",
       "[6]  0.0503784641651  0.0520353609861  0.0593681375923  0.0489097498398\n",
       "[7]  0.0459966146635  0.0438725844544  0.0374487977259  0.0559324834029\n",
       "[8]  0.0429247315716  0.0486110646899  0.0426984361353  0.0352851259553\n",
       "[9]  0.0640260587479  0.0611227285309    0.04632137939  0.0458211851017\n",
       "\n",
       "[#]  topic_6          topic_7          topic_8          topic_9        \n",
       "=======================================================================\n",
       "[0]  0.0496645427768  0.0490014210162  0.0422782408473  0.0424773505011\n",
       "[1]  0.0568781974125  0.0510576167961  0.0562408959959  0.0479563262347\n",
       "[2]   0.049122063901  0.0462445607938  0.0549914177163  0.0606413708411\n",
       "[3]  0.0506628640954  0.0533640500374  0.0548281792586  0.0419614314415\n",
       "[4]  0.0495245915362  0.0474824837074  0.0506152013049  0.0506758051264\n",
       "[5]    0.04592892357  0.0551238164167   0.052044283194  0.0446704700734\n",
       "[6]  0.0463945564073   0.054167786029  0.0389988337508  0.0497569782425\n",
       "[7]  0.0546836393243  0.0513432157658  0.0569124701005   0.039762097293\n",
       "[8]  0.0486732019514  0.0721262273725  0.0398548717596  0.0636087187953\n",
       "[9]  0.0442636742783   0.057502142788  0.0511461163782  0.0484662978704\n",
       "\n",
       "[#]  topic_10         topic_11         topic_12         topic_13       \n",
       "=======================================================================\n",
       "[0]   0.051435480214  0.0506942219983  0.0510571398511  0.0515881471654\n",
       "[1]  0.0572510335592  0.0506072064493  0.0471055424937  0.0509371341256\n",
       "[2]  0.0548905618989   0.039201790844  0.0455618695347  0.0443496398288\n",
       "[3]  0.0533488009453   0.058898976529   0.056334051913  0.0468040822643\n",
       "[4]  0.0483760439523  0.0560512451265  0.0488007384384  0.0561870838147\n",
       "[5]   0.046801966391  0.0452725604277  0.0671078893547  0.0541886556498\n",
       "[6]  0.0472880079195   0.044655893947  0.0529968452641  0.0452528596387\n",
       "[7]   0.055170792821  0.0398845900568  0.0465237651646  0.0486096662184\n",
       "[8]  0.0637683341477  0.0460067478455  0.0348067917178  0.0571537407542\n",
       "[9]  0.0423519080261  0.0597679651467  0.0385296502567  0.0475709385592\n",
       "\n",
       "[#]  topic_14         topic_15         topic_16         topic_17       \n",
       "=======================================================================\n",
       "[0]  0.0488012470084  0.0528525367902  0.0485994081154  0.0518618323412\n",
       "[1]  0.0435707724852  0.0517671209512  0.0531391386255  0.0507171853331\n",
       "[2]  0.0515837171796    0.05532908721  0.0474462994995  0.0502498175678\n",
       "[3]  0.0559575497366  0.0441168025292  0.0605565609517  0.0530805725428\n",
       "[4]  0.0559096190965  0.0478956348872  0.0500091391059  0.0576550222341\n",
       "[5]  0.0537986036506  0.0634099012101    0.04798782221  0.0434388269291\n",
       "[6]  0.0554648476199  0.0514440464211  0.0542327507502  0.0479532281901\n",
       "[7]  0.0597266548589   0.054580178238  0.0537233543851  0.0526854836249\n",
       "[8]  0.0437752918994  0.0560448491043  0.0423258908428  0.0645319019404\n",
       "[9]  0.0520114236503  0.0467327946814  0.0395480714034  0.0503398124257\n",
       "\n",
       "[#]  topic_18         topic_19         topic_20         RF30    \n",
       "================================================================\n",
       "[0]  0.0456517431593  0.0527140097828  0.0609109710304  NEGATIVE\n",
       "[1]  0.0480429258384   0.046270990574  0.0446926286228  NEGATIVE\n",
       "[2]  0.0464650595857  0.0469885486396  0.0518265985383  NEGATIVE\n",
       "[3]  0.0483885189992  0.0536150623334  0.0532128362573  NEGATIVE\n",
       "[4]  0.0456170301231  0.0549673826337  0.0387680858476  NEGATIVE\n",
       "[5]  0.0443494116407   0.045812326543  0.0343696344287  NEGATIVE\n",
       "[6]  0.0444549743367  0.0486745685849   0.057252784807  NEGATIVE\n",
       "[7]    0.04711372315  0.0513350330209  0.0558904753316  NEGATIVE\n",
       "[8]  0.0584569529733  0.0559828625692    0.04645868618  NEGATIVE\n",
       "[9]  0.0560655485203  0.0503892247662  0.0551835154935  NEGATIVE\n",
       "\n",
       "[#]  MARITAL_STATUS_INT\n",
       "=======================\n",
       "[0]                  38\n",
       "[1]                  97\n",
       "[2]                  99\n",
       "[3]                  99\n",
       "[4]                  99\n",
       "[5]                  99\n",
       "[6]                  97\n",
       "[7]                  99\n",
       "[8]                  99\n",
       "[9]                  97"
      ]
     },
     "execution_count": 22,
     "metadata": {},
     "output_type": "execute_result"
    }
   ],
   "source": [
    "tutorial_inpat_model_lda.inspect()"
   ]
  },
  {
   "cell_type": "markdown",
   "metadata": {},
   "source": [
    "### Partition into train/test"
   ]
  },
  {
   "cell_type": "code",
   "execution_count": 23,
   "metadata": {
    "collapsed": false
   },
   "outputs": [
    {
     "name": "stdout",
     "output_type": "stream",
     "text": [
      "[=========================] 100.00% Tasks retries:0 Time 0:00:02\n",
      "[=========================] 100.00% Tasks retries:0 Time 0:00:16\n"
     ]
    }
   ],
   "source": [
    "PATIDS = tutorial_inpat_model_lda.group_by(\"PATID\", ia.agg.count)\n",
    "PATIDSdl = PATIDS.download(n=PATIDS.row_count, columns='PATID')\n",
    "unique_patids = list(set(list(PATIDSdl['PATID'])))\n",
    "random.shuffle(unique_patids)\n",
    "test_patids = unique_patids[0:int(len(unique_patids) * 0.10)]\n",
    "train_patids = [i for i in unique_patids if i not in test_patids]\n",
    "\n",
    "\n",
    "def label_train_test(row, test_list=test_patids, train_list=train_patids):\n",
    "    if row['PATID'] in test_patids:\n",
    "        return \"TEST\"\n",
    "    else:\n",
    "        return \"TRAIN\"\n",
    "    \n",
    "\n",
    "tutorial_inpat_model_lda.add_columns(label_train_test, (\"DATASET\", str))"
   ]
  },
  {
   "cell_type": "code",
   "execution_count": 24,
   "metadata": {
    "collapsed": false
   },
   "outputs": [
    {
     "data": {
      "text/plain": [
       "1334"
      ]
     },
     "execution_count": 24,
     "metadata": {},
     "output_type": "execute_result"
    }
   ],
   "source": [
    "len(train_patids)"
   ]
  },
  {
   "cell_type": "code",
   "execution_count": 25,
   "metadata": {
    "collapsed": false
   },
   "outputs": [
    {
     "data": {
      "text/plain": [
       "148"
      ]
     },
     "execution_count": 25,
     "metadata": {},
     "output_type": "execute_result"
    }
   ],
   "source": [
    "len(test_patids)"
   ]
  },
  {
   "cell_type": "code",
   "execution_count": 26,
   "metadata": {
    "collapsed": false
   },
   "outputs": [
    {
     "data": {
      "text/plain": [
       "[#]  PATID                 VISID               \n",
       "===============================================\n",
       "[0]  86b314f2b8f649e09a25  bd62406626bdb419eb3c\n",
       "[1]  c3ee6c31222a5c0004ce  7f6aee844984b9437bcb\n",
       "[2]  1d9af07a834caa2cc3ab  49d6b4f4a2bdf68f8c62\n",
       "[3]  818ddca22852f6f94f69  960262597b8a2dd19bae\n",
       "[4]  04c4bf916059aea7340f  5590a4f169574de5b93a\n",
       "[5]  1b40b5b4555e7675d578  df4b8e284086b26064ac\n",
       "[6]  0a3a992c3a2287d9470f  4b202d09bf4bddc995d1\n",
       "[7]  12b37095664c01df2454  66d27aba05a171b606a9\n",
       "[8]  e05e07d93bdaae395d36  0401b8c91ae336b4a9b6\n",
       "[9]  899c3ec20a4ac7bf00ab  f83959fecf8087e5a150\n",
       "\n",
       "[#]  EVENT_ID                                  HEIGHT_INCHES  MARITAL_STATUS\n",
       "============================================================================\n",
       "[0]  86b314f2b8f649e09a25bd62406626bdb419eb3c  72.0078735352  W\n",
       "[1]  c3ee6c31222a5c0004ce7f6aee844984b9437bcb  57.9921264648  S\n",
       "[2]  1d9af07a834caa2cc3ab49d6b4f4a2bdf68f8c62  70.9842529297  M\n",
       "[3]  818ddca22852f6f94f69960262597b8a2dd19bae  64.0157470703  M\n",
       "[4]  04c4bf916059aea7340f5590a4f169574de5b93a  67.0078735352  M\n",
       "[5]  1b40b5b4555e7675d578df4b8e284086b26064ac  59.9999961853  M\n",
       "[6]  0a3a992c3a2287d9470f4b202d09bf4bddc995d1           70.0  S\n",
       "[7]  12b37095664c01df245466d27aba05a171b606a9  70.9842529297  M\n",
       "[8]  e05e07d93bdaae395d360401b8c91ae336b4a9b6  57.0078735352  M\n",
       "[9]  899c3ec20a4ac7bf00abf83959fecf8087e5a150  67.0078735352  S\n",
       "\n",
       "[#]  WEIGHT_LBS     DEATH_FLAG  AGE \n",
       "====================================\n",
       "[0]  163.999664307  0.0         60.0\n",
       "[1]  95.1250534058  0.0         52.0\n",
       "[2]  186.063537598  0.0         61.0\n",
       "[3]  136.999664307  0.0         64.0\n",
       "[4]  160.062210083  0.0         70.0\n",
       "[5]  177.692581177  0.0         33.0\n",
       "[6]  202.999450684  0.0         67.0\n",
       "[7]  214.999206543  0.0         52.0\n",
       "[8]  118.061950684  0.0         77.0\n",
       "[9]  377.063232422  0.0         36.0\n",
       "\n",
       "[#]  MEDS                                                                       \n",
       "================================================================================\n",
       "[0]  ondansetron intraVENOUS push -|sodium chloride 0.9% -|HYDROmorphone injection -|magnesium sulfate IVPB 4 Gram/SWFI -|HYDROmorphone -|DULoxetine -|sucralfate oral liquid -|senna concentrate -|oxyCODONE ER -|ranitidine -|nystatin oral liquid -|LORazepam -|acetaminophen -|potassium chloride ER -|gabapentin -|docusate sodium -|lansoprazole DR -|multivitamin -|influenza vaccine injection -|enoxaparin injection_|pantoprazole 40 mg oral delayed release tablet|magnesium sulfate IVPB 2 Gram/SWFI 50mL-|nystatin 100,000 units/mL oral suspension\n",
       "[1]  enoxaparin injection_|ondansetron intraVENOUS push -|nicotine 14 mg-24 hour topical -|docusate oral liquid -|oxyCODONE -|ferrous sulfate -|senna concentrate -|mirtazapine -|codeine-guaifenesin oral liquid -|potassium chloride IVPB -|calcium carbonate-vitamin D --|magnesium oxide tablet -|folic acid -|potassium phosphate neutral -|potassium chloride ER -|magnesium sulfate IVPB 4 Gram/SWFI -|calcium gluconate IVPB -|potassium chloride liquid -|potassium-sodium phosphate powder for solution|calcium carbonate chewable -|loratadine -|albuterol-ipratropium inhaler w/adapter-|albuterol 2.5 mg/0.5 mL soln (no saline)|ipratropium nebulizer solution -|cyclobenzaprine -|mirtazapine 15 mg oral tablet|Promethazine VC with Codeine 10 mg-5 mg-6.25 mg/5 mL oral syrup|nicotine 14 mg/24 hr transdermal film, extended release|ibuprofen 600 mg oral tablet|potassium phosphate IVPB -|acetaminophen -|calcium carbonate -|levoFLOXacin -|vaNCoMYCin IVPB -|diatrizoate meglumine oral solution -\n",
       "[2]  cefepime IVPB_|midazolam injection -|pharmacy med reconciliation consult -|nadolol -|lactulose liquid -|ursodiol -|octreotide injection -|pantoprazole infusion -|Lasix 40 mg oral tablet|diphenhydrAMINE injection -|rifaXIMIN.|multivitamin B complex with C -|octreotide infusion -|fentanyl 8 mg in 250 mL 0.9% NACL -|calcium carbonate-vitamin D --|fish oil -|acetaminophen -|fluid challenge lactated ringers -|fentanyl bolus dose|fentanyl infusion bolus-|traMADol -|pantoprazole IVPB -|heparin injection -|furosemide -|spironolactone -|lansoprazole DR -|eplerenone -|potassium chloride ER -|oxyCODONE -|furosemide injection -|carvedilol -|Cipro 500 mg oral tablet|oxyCODONE 5 mg oral tablet|cefpodoxime 200 mg oral tablet|acetaminophen 325 mg oral tablet|albumin 25% IVPB -|Coreg 3.125 mg oral tablet|traMADol 50 mg oral tablet|carvedilol 6.25 mg oral tablet|eplerenone 50 mg oral tablet|Pharmacy Med Reconciliation Consult for DC|furosemide 40 mg oral tablet|PANTOPRAZOLE IVPB HUP AND PPMC ONLY|CEFTRIAXONE 1 G (READY-TO-USE) IN NS IVPB|PANTOPRAZOLE INFUSION\n",
       "[3]  heparin injection -|lactated ringers -|ondansetron intraVENOUS push -|Pantoprazole - IV Push|morphine PCA (1 mg/mL)_|fentanyl injection. -|HYDROmorphone injection. -|morphine injection..-|metoclopramide injection -|clindamycin IVPB -|pantoprazole -|ALPRAZolam -|HYDROmorphone injection -|HYDROmorphone -|docusate sodium-senna tablet -|acetaminophen -|ketorolac injection_|rosuvastatin -|potassium phosphate-sod phosph neutral -|(ADM OVERRIDE)|SODIUM CHLORIDE 0.9 % IRRIGATION SOLN|Crestor 5 mg oral tablet|BUPIVACAINE HCL 0.5 % INJECTION SOLN\n",
       "[4]  hydrochlorothiazide tablet -|pantoprazole -|levothyroxine -|aspirin chewable -|metoprolol TARTRATE -|warfarin -|glycopyrrolate -|senna concentrate -|rosuvastatin -|temazepam -|diltiazem infusion -|heparin infusion 25000 Units/D5W 250 mL-|potassium chloride ER -|ASPIRIN 81 MG PO CHEW|glycopyrrolate 1 mg oral tablet|famotidine 40 mg oral tablet|zolpidem 10 mg oral tablet|acetaminophen -|LORAZEPAM 2 MG/ML INJECTION SOLN|warfarin 2.5 mg oral tablet|metoprolol 25 mg oral tablet|glycopyrrolate 2 mg oral tablet|(ADM OVERRIDE)\n",
       "[5]  fentanyl injection -|LORazepam injection -|labetalol injection -|fentanyl 8 mg in 250 mL 0.9% NACL -|propofol infusion 1,000 mg/100 mL -|mycophenolate oral liquid -|calcitriol oral liquid -|cholecalciferol -|labetalol infusion 1000 mg in 200 mL -|sulfamethoxazole-trimethoprim liquid -|famotidine IVPB-|citric acid-sodium citrate oral liquid -|LevETIRAcetam IVPB -|methylPREDNISolone sod succinate IVPB|heparin injection -|niCARDipine 20mg in 200 mls isotonic diluent|predniSONE -|lansoprazole disintegrating -|magnesium sulfate IVPB 4 Gram/SWFI -|sevelamer -|dextrose 5% in water -|LevETIRAcetam oral liquid -|pravastatin 10 mg oral tablet|sodium bicarbonate -|Bactrim 400 mg-80 mg oral tablet|mycophenolate mofetil 250 mg oral capsule|sodium bicarbonate 650 mg oral tablet|NIFEdipine ER -|cholecalciferol 1000 intl units oral capsule|hydrALAZINE 50 mg oral tablet|labetalol 300 mg oral tablet\n",
       "[6]  acetaminophen -|aspirin chewable -|losartan -|amiodarone -|atorvastatin -|furosemide injection -|heparin injection -|carvedilol -|senna concentrate -|Coreg 25 mg oral tablet|amiodarone 200 mg oral tablet|Lasix 40 mg oral tablet|atorvastatin 80 mg oral tablet|losartan 50 mg oral tablet|(ADM OVERRIDE)\n",
       "[7]  ondansetron intraVENOUS push.|acetaminophen -|sodium chloride 0.9% -|morphine PCA (1 mg/mL) -|ceFAZolin IVPB-|senna concentrate -|docusate sodium -|heparin injection -|oxyCODONE-acetaminophen 5 mg-325 mg -|lansoprazole DR -|benzocaine-menthol lozenge -|Al hydroxid/Mg hydroxide/simeth liquid -|BACITRACIN 50000 UNITS IM SOLR|LIDOCAINE-EPINEPHRINE 1 %-1:100000 INJECTION SOLN|THROMBIN 5000 UNITS EX KIT\n",
       "[8]  sodium chloride 0.9% -|lactulose liquid -|oxyCODONE ER -|enoxaparin injection_|oxyCODONE oral liquid -|mirtazapine -|Weekly labs- CBC, BMP- Please fax results to Dr. Aggarwal at 215-349-5326|docusate sodium 100 mg oral capsule\n",
       "[9]  heparin injection --|fentanyl injection. -|HYDROmorphone injection. -|meperidine injection. -|ondansetron intraVENOUS push.|proMETHazine injection_|lactated ringers -|morphine PCA (1 mg/mL) -|ondansetron intraVENOUS push -|ketorolac injection -|famotidine IVPB-|fluticasone-salmeterol 250 mcg/50 mcg -|ceFAZolin IVPB-|benzocaine-menthol lozenge -|BUPIVACAINE HCL (PF) 0.5 % INJECTION SOLN\n",
       "\n",
       "[#]  ADM_DATE    DISCHARGE_DATE  VISID_R               topic_1        \n",
       "======================================================================\n",
       "[0]  1557512280  1557828180      bd62406626bdb419eb3c  0.0427182583526\n",
       "[1]  1557766800  1558266000      7f6aee844984b9437bcb  0.0549773688072\n",
       "[2]  1558113600  1558613580      49d6b4f4a2bdf68f8c62  0.0526078562012\n",
       "[3]  1557813180  1558035840      960262597b8a2dd19bae  0.0411333059521\n",
       "[4]  1557835500  1558025040      5590a4f169574de5b93a  0.0494912856016\n",
       "[5]  1557836460  1558869000      df4b8e284086b26064ac   0.041900314297\n",
       "[6]  1557829740  1558186260      4b202d09bf4bddc995d1  0.0503193255079\n",
       "[7]  1557833280  1558016280      66d27aba05a171b606a9  0.0488043803995\n",
       "[8]  1557944400  1559234040      0401b8c91ae336b4a9b6  0.0369055717945\n",
       "[9]  1557904680  1558108740      f83959fecf8087e5a150  0.0428395639852\n",
       "\n",
       "[#]  topic_2          topic_3          topic_4          topic_5        \n",
       "=======================================================================\n",
       "[0]  0.0492335268656  0.0555792961456   0.050824114718  0.0520565113202\n",
       "[1]  0.0557333130926  0.0420317260671  0.0465166696078   0.044506206928\n",
       "[2]  0.0549194261528  0.0527158501548  0.0466792765903  0.0481851873218\n",
       "[3]  0.0433381695386  0.0449403531787  0.0504997045794  0.0349581269163\n",
       "[4]  0.0455998027581  0.0443004302797  0.0498963283097  0.0521770461159\n",
       "[5]  0.0475070059629  0.0559953936229  0.0557931331348  0.0544990612929\n",
       "[6]  0.0503784641651  0.0520353609861  0.0593681375923  0.0489097498398\n",
       "[7]  0.0459966146635  0.0438725844544  0.0374487977259  0.0559324834029\n",
       "[8]  0.0429247315716  0.0486110646899  0.0426984361353  0.0352851259553\n",
       "[9]  0.0640260587479  0.0611227285309    0.04632137939  0.0458211851017\n",
       "\n",
       "[#]  topic_6          topic_7          topic_8          topic_9        \n",
       "=======================================================================\n",
       "[0]  0.0496645427768  0.0490014210162  0.0422782408473  0.0424773505011\n",
       "[1]  0.0568781974125  0.0510576167961  0.0562408959959  0.0479563262347\n",
       "[2]   0.049122063901  0.0462445607938  0.0549914177163  0.0606413708411\n",
       "[3]  0.0506628640954  0.0533640500374  0.0548281792586  0.0419614314415\n",
       "[4]  0.0495245915362  0.0474824837074  0.0506152013049  0.0506758051264\n",
       "[5]    0.04592892357  0.0551238164167   0.052044283194  0.0446704700734\n",
       "[6]  0.0463945564073   0.054167786029  0.0389988337508  0.0497569782425\n",
       "[7]  0.0546836393243  0.0513432157658  0.0569124701005   0.039762097293\n",
       "[8]  0.0486732019514  0.0721262273725  0.0398548717596  0.0636087187953\n",
       "[9]  0.0442636742783   0.057502142788  0.0511461163782  0.0484662978704\n",
       "\n",
       "[#]  topic_10         topic_11         topic_12         topic_13       \n",
       "=======================================================================\n",
       "[0]   0.051435480214  0.0506942219983  0.0510571398511  0.0515881471654\n",
       "[1]  0.0572510335592  0.0506072064493  0.0471055424937  0.0509371341256\n",
       "[2]  0.0548905618989   0.039201790844  0.0455618695347  0.0443496398288\n",
       "[3]  0.0533488009453   0.058898976529   0.056334051913  0.0468040822643\n",
       "[4]  0.0483760439523  0.0560512451265  0.0488007384384  0.0561870838147\n",
       "[5]   0.046801966391  0.0452725604277  0.0671078893547  0.0541886556498\n",
       "[6]  0.0472880079195   0.044655893947  0.0529968452641  0.0452528596387\n",
       "[7]   0.055170792821  0.0398845900568  0.0465237651646  0.0486096662184\n",
       "[8]  0.0637683341477  0.0460067478455  0.0348067917178  0.0571537407542\n",
       "[9]  0.0423519080261  0.0597679651467  0.0385296502567  0.0475709385592\n",
       "\n",
       "[#]  topic_14         topic_15         topic_16         topic_17       \n",
       "=======================================================================\n",
       "[0]  0.0488012470084  0.0528525367902  0.0485994081154  0.0518618323412\n",
       "[1]  0.0435707724852  0.0517671209512  0.0531391386255  0.0507171853331\n",
       "[2]  0.0515837171796    0.05532908721  0.0474462994995  0.0502498175678\n",
       "[3]  0.0559575497366  0.0441168025292  0.0605565609517  0.0530805725428\n",
       "[4]  0.0559096190965  0.0478956348872  0.0500091391059  0.0576550222341\n",
       "[5]  0.0537986036506  0.0634099012101    0.04798782221  0.0434388269291\n",
       "[6]  0.0554648476199  0.0514440464211  0.0542327507502  0.0479532281901\n",
       "[7]  0.0597266548589   0.054580178238  0.0537233543851  0.0526854836249\n",
       "[8]  0.0437752918994  0.0560448491043  0.0423258908428  0.0645319019404\n",
       "[9]  0.0520114236503  0.0467327946814  0.0395480714034  0.0503398124257\n",
       "\n",
       "[#]  topic_18         topic_19         topic_20         RF30    \n",
       "================================================================\n",
       "[0]  0.0456517431593  0.0527140097828  0.0609109710304  NEGATIVE\n",
       "[1]  0.0480429258384   0.046270990574  0.0446926286228  NEGATIVE\n",
       "[2]  0.0464650595857  0.0469885486396  0.0518265985383  NEGATIVE\n",
       "[3]  0.0483885189992  0.0536150623334  0.0532128362573  NEGATIVE\n",
       "[4]  0.0456170301231  0.0549673826337  0.0387680858476  NEGATIVE\n",
       "[5]  0.0443494116407   0.045812326543  0.0343696344287  NEGATIVE\n",
       "[6]  0.0444549743367  0.0486745685849   0.057252784807  NEGATIVE\n",
       "[7]    0.04711372315  0.0513350330209  0.0558904753316  NEGATIVE\n",
       "[8]  0.0584569529733  0.0559828625692    0.04645868618  NEGATIVE\n",
       "[9]  0.0560655485203  0.0503892247662  0.0551835154935  NEGATIVE\n",
       "\n",
       "[#]  MARITAL_STATUS_INT  DATASET\n",
       "================================\n",
       "[0]                  38  TRAIN\n",
       "[1]                  97  TRAIN\n",
       "[2]                  99  TRAIN\n",
       "[3]                  99  TRAIN\n",
       "[4]                  99  TRAIN\n",
       "[5]                  99  TRAIN\n",
       "[6]                  97  TRAIN\n",
       "[7]                  99  TRAIN\n",
       "[8]                  99  TRAIN\n",
       "[9]                  97  TRAIN"
      ]
     },
     "execution_count": 26,
     "metadata": {},
     "output_type": "execute_result"
    }
   ],
   "source": [
    "tutorial_inpat_model_lda.inspect(columns=[i for i in tutorial_inpat_model_lda.column_names if i != 'data_lines'])"
   ]
  },
  {
   "cell_type": "markdown",
   "metadata": {},
   "source": [
    "## Train Random Forest"
   ]
  },
  {
   "cell_type": "code",
   "execution_count": 27,
   "metadata": {
    "collapsed": false
   },
   "outputs": [
    {
     "name": "stdout",
     "output_type": "stream",
     "text": [
      "[=========================] 100.00% Tasks retries:0 Time 0:00:12\n",
      "[=========================] 100.00% Tasks retries:0 Time 0:00:08\n",
      "[=========================] 100.00% Tasks retries:0 Time 0:00:11\n",
      "[=========================] 100.00% Tasks retries:0 Time 0:00:07\n"
     ]
    }
   ],
   "source": [
    "trainframe = tutorial_inpat_model_lda.copy()\n",
    "trainframe.filter(lambda row: row['DATASET'] == \"TRAIN\")\n",
    "testframe = tutorial_inpat_model_lda.copy()\n",
    "testframe.filter(lambda row: row['DATASET'] == \"TEST\")"
   ]
  },
  {
   "cell_type": "code",
   "execution_count": 28,
   "metadata": {
    "collapsed": false
   },
   "outputs": [
    {
     "ename": "NameError",
     "evalue": "name 'train' is not defined",
     "output_type": "error",
     "traceback": [
      "\u001b[1;31m---------------------------------------------------------------------------\u001b[0m",
      "\u001b[1;31mNameError\u001b[0m                                 Traceback (most recent call last)",
      "\u001b[1;32m<ipython-input-28-a8a38badf4a2>\u001b[0m in \u001b[0;36m<module>\u001b[1;34m()\u001b[0m\n\u001b[1;32m----> 1\u001b[1;33m \u001b[0mtrain\u001b[0m\u001b[1;33m.\u001b[0m\u001b[0mcolumn_names\u001b[0m\u001b[1;33m\u001b[0m\u001b[0m\n\u001b[0m",
      "\u001b[1;31mNameError\u001b[0m: name 'train' is not defined"
     ]
    }
   ],
   "source": [
    "train.column_names"
   ]
  },
  {
   "cell_type": "code",
   "execution_count": null,
   "metadata": {
    "collapsed": false
   },
   "outputs": [],
   "source": [
    "rf_model_tutorial = ia.RandomForestClassifierModel('rf_model_tutorial2')"
   ]
  },
  {
   "cell_type": "code",
   "execution_count": null,
   "metadata": {
    "collapsed": false
   },
   "outputs": [],
   "source": [
    "# train.column_names\n",
    "rf_model_tutorial"
   ]
  },
  {
   "cell_type": "code",
   "execution_count": null,
   "metadata": {
    "collapsed": false
   },
   "outputs": [],
   "source": [
    "def rf30_str(row):\n",
    "    if row['RF30'] == \"POSITIVE\":\n",
    "        return 1\n",
    "    else:\n",
    "        return 0\n",
    "\n",
    "trainframe.add_columns(rf30_str, (\"RF30STR\", ia.float32))\n",
    "testframe.add_columns(rf30_str, (\"RF30STR\", ia.float32))"
   ]
  },
  {
   "cell_type": "code",
   "execution_count": null,
   "metadata": {
    "collapsed": false
   },
   "outputs": [],
   "source": [
    "rf_model_tutorial_results = rf_model_tutorial.train(frame=trainframe, \n",
    "                                                    label_column=\"RF30STR\", \n",
    "                                                    observation_columns=[\"topic_1\", \"topic_2\"], \n",
    "                                                    num_classes=2, \n",
    "                                                    impurity='gini', \n",
    "                                                    max_depth=4, \n",
    "                                                    seed=01001000\n",
    "                                                   )"
   ]
  },
  {
   "cell_type": "code",
   "execution_count": null,
   "metadata": {
    "collapsed": false
   },
   "outputs": [],
   "source": [
    "# test the model\n",
    "x = rf_model_tutorial.test(testframe, \"RF30STR\")"
   ]
  },
  {
   "cell_type": "code",
   "execution_count": null,
   "metadata": {
    "collapsed": false
   },
   "outputs": [],
   "source": [
    "x"
   ]
  },
  {
   "cell_type": "code",
   "execution_count": null,
   "metadata": {
    "collapsed": true
   },
   "outputs": [],
   "source": [
    "x = m.publish()"
   ]
  }
 ],
 "metadata": {
  "kernelspec": {
   "display_name": "Python 2",
   "language": "python",
   "name": "python2"
  },
  "language_info": {
   "codemirror_mode": {
    "name": "ipython",
    "version": 2
   },
   "file_extension": ".py",
   "mimetype": "text/x-python",
   "name": "python",
   "nbconvert_exporter": "python",
   "pygments_lexer": "ipython2",
   "version": "2.7.5"
  }
 },
 "nbformat": 4,
 "nbformat_minor": 0
}
